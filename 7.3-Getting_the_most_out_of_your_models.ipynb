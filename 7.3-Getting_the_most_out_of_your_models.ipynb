{
 "cells": [
  {
   "cell_type": "code",
   "execution_count": 1,
   "metadata": {},
   "outputs": [
    {
     "name": "stdout",
     "output_type": "stream",
     "text": [
      "2.2.4-tf\n",
      "2.0.0\n"
     ]
    }
   ],
   "source": [
    "from tensorflow import keras\n",
    "import tensorflow as tf\n",
    "print(keras.__version__)\n",
    "print(tf.__version__)"
   ]
  },
  {
   "cell_type": "markdown",
   "metadata": {
    "collapsed": true
   },
   "source": [
    "## 7.3. Getting the most out of your models\n",
    "\n",
    "In this section, we’ll go beyond “works okay” to “works great and wins machine-learning competitions” by offering you a quick guide to a set of must-know techniques for building state-of-the-art deep-learning models. "
   ]
  },
  {
   "cell_type": "markdown",
   "metadata": {},
   "source": [
    "### 7.3.1. Advanced architecture patterns \n",
    "\n",
    "We covered one important design pattern in detail in the previous section: residual connections. There are two more design patterns you should know about: normalization and depthwise separable convolution. "
   ]
  },
  {
   "cell_type": "markdown",
   "metadata": {},
   "source": [
    "#### Normalization\n",
    "\n",
    "<i>Normalization</i> is a broad category of methods that seek to make different samples seen by a machine-learning model more similar to each other, which helps the model learn and generalize well to new data. The most common form of data normalization is one you’ve seen several times in this book already: centering the data on 0 by subtracting the mean from the data, and giving the data a unit standard deviation by dividing the data by its standard deviation based on the assumption that the data follows a normal (or Gaussian) distribution:\n",
    "\n",
    "```Python\n",
    "    normalized_data = (data - np.mean(data, axis=...)) / np.std(data, axis=...)\n",
    "```\n",
    "\n",
    "#### Batch normalization \n",
    "\n",
    "Data normalization should be a concern after every transformation operated by the network: even if the data entering a Dense or Conv2D network has a 0 mean and unit variance, there’s no reason to expect a priori that this will be the case for the data coming out. \n",
    "\n",
    "<i>Batch normalization</i> is a type of layer (`BatchNormalization` in Keras) introduced in 2015 by Ioffe and Szegedy that can adaptively normalize data even as the mean and variance change over time during training. It works by internally maintaining an exponential moving average of the batch-wise mean and variance of the data seen during training. The main effect of batch normalization is that it helps with gradient propagation and allows deeper networks. For instance, BatchNormalization is used liberally in many of the advanced convnet architectures that come packaged with Keras, such as ResNet50, Inception V3, and Xception.  \n",
    "\n",
    "The `BatchNormalization` layer is typically used after a convolutional or densely connected layer:\n",
    "\n",
    "```Python\n",
    "    conv_model.add(layers.Conv2D(32, 3, activation='relu'))\n",
    "    # Batch normalization used after a Conv layer\n",
    "    conv_model.add(layers.BatchNormalization())\n",
    "\n",
    "    dense_model.add(layers.Dense(32, activation='relu'))\n",
    "    # Batch normalization used after a Dense layer\n",
    "    dense_model.add(layers.BatchNormalization())\n",
    "```\n",
    "The `BatchNormalization` layer takes an axis argument, which specifies the feature axis that should be normalized. This argument defaults to -1, the last axis in the input tensor. This is the correct value when using Dense layers, Conv1D layers, RNN layers, and Conv2D layers with data_format set to \"channels_last\". But in the niche use case of Conv2D layers with data_format set to \"channels_first\", the features axis is axis 1; the axis argument in BatchNormalization should accordingly be set to 1."
   ]
  },
  {
   "cell_type": "markdown",
   "metadata": {},
   "source": [
    "#### Batch renormalization \n",
    "A recent improvement over regular batch normalization is batch renormalization, introduced by Ioffe in 2017. It offers clears benefits over batch normalization, at no apparent cost. At the time of writing, it’s too early to tell whether it will supplant batch normalization. Even more recently, Klambauer et al. introduced self-normalizing neural networks,which manage to keep data normalized after going through any Dense layer by using a specific activation function (`selu`) and a specific initializer (`lecun_normal`). This scheme, although highly interesting, is limited to densely connected networks for now, and its usefulness hasn’t yet been broadly replicated."
   ]
  },
  {
   "cell_type": "markdown",
   "metadata": {},
   "source": [
    "#### Depthwise separable convolution \n",
    "<i>Depthwise separable convolution layer</i> can make a model lighter (fewer trainable weight parameters) and faster (fewer floating-point operations) and cause it to perform a few percentage points better on its task. The For example, SeparableConv2D layer performs a spatial convolution on each channel of its input, independently, before mixing output channels via a pointwise convolution (a 1 × 1 convolution). This is equivalent to separating the learning of spatial features and the learning of channel-wise features. It requires significantly fewer parameters and involves fewer computations, thus resulting in smaller, speedier models. And because it’s a more representationally efficient way to perform convolution, it tends to learn better representations using less data, resulting in better-performing models. \n",
    "\n",
    "These advantages become especially important when you’re training small models from scratch on limited data. For instance, here’s how you can build a lightweight, depthwise separable convnet for an image-classification task (softmax categorical classification) on a small dataset:\n",
    "\n",
    "When it comes to larger-scale models, depthwise separable convolutions are the basis of the Xception architecture, a high-performing convnet that comes packaged with Keras. "
   ]
  },
  {
   "cell_type": "markdown",
   "metadata": {},
   "source": [
    "#### Training a Depthwise separable convolution\n",
    "#####  on the CIFAR10 dataset\n",
    "\n",
    "The original code above requires an imges dataset in the format 64 height x 64 width x 3 channels. Furthermore, in order to work, depthwise separable convolution needs multichannel data, so MNIST dataset is not appropriate (28x28x1) since that has only one channel. Fortunately, KERAS has the CIFAR10 dataset which is in the format (32x32x3), so 3 channels. \n",
    "\n",
    "Therefore, we will adapt a code example from the KERAS GitHub repo: https://github.com/keras-team/keras/blob/master/examples/mnist_cnn.py"
   ]
  },
  {
   "cell_type": "code",
   "execution_count": 2,
   "metadata": {},
   "outputs": [
    {
     "name": "stdout",
     "output_type": "stream",
     "text": [
      "x_train shape: (50000, 32, 32, 3)\n",
      "50000 train samples\n",
      "10000 test samples\n"
     ]
    }
   ],
   "source": [
    "# https://github.com/keras-team/keras/blob/master/examples/mnist_cnn.py\n",
    "\n",
    "'''Trains a Depthwise separable convolution on the CIFAR10 dataset.\n",
    "'''\n",
    "\n",
    "from __future__ import print_function\n",
    "import keras\n",
    "from keras.datasets import cifar10\n",
    "from keras.models import Sequential\n",
    "from keras import layers\n",
    "from keras.layers import Dense, Dropout, Flatten\n",
    "from keras.layers import Conv2D, MaxPooling2D\n",
    "from keras import backend as K\n",
    "\n",
    "batch_size = 128\n",
    "num_classes = 10\n",
    "epochs = 12\n",
    "\n",
    "# input image dimensions\n",
    "img_height = 32\n",
    "img_width = 32\n",
    "channels = 3\n",
    "\n",
    "# the data, split between train and test sets\n",
    "(x_train, y_train), (x_test, y_test) = cifar10.load_data()\n",
    "\n",
    "if K.image_data_format() == 'channels_first':\n",
    "    x_train = x_train.reshape(x_train.shape[0], channels, img_height, img_width)\n",
    "    x_test = x_test.reshape(x_test.shape[0], channels, img_height, img_width)\n",
    "    input_shape = (channels, img_height, img_width)\n",
    "else:\n",
    "    x_train = x_train.reshape(x_train.shape[0], img_height, img_width, channels)\n",
    "    x_test = x_test.reshape(x_test.shape[0], img_height, img_width, channels)\n",
    "    input_shape = (img_height, img_width, channels)\n",
    "\n",
    "x_train = x_train.astype('float32')\n",
    "x_test = x_test.astype('float32')\n",
    "x_train /= 255\n",
    "x_test /= 255\n",
    "print('x_train shape:', x_train.shape)\n",
    "print(x_train.shape[0], 'train samples')\n",
    "print(x_test.shape[0], 'test samples')\n",
    "\n",
    "# convert class vectors to binary class matrices\n",
    "y_train = keras.utils.to_categorical(y_train, num_classes)\n",
    "y_test = keras.utils.to_categorical(y_test, num_classes)\n",
    "\n",
    "model_a = Sequential()\n",
    "model_a.add(layers.SeparableConv2D(32, 3,\n",
    "                                 activation='relu',\n",
    "                                 input_shape=(img_height, img_width, channels,))) \n",
    "model_a.add(layers.SeparableConv2D(64, 3, activation='relu'))\n",
    "model_a.add(layers.MaxPooling2D(2))\n",
    "model_a.add(layers.SeparableConv2D(64, 3, activation='relu'))\n",
    "model_a.add(layers.SeparableConv2D(128, 3, activation='relu'))\n",
    "model_a.add(layers.MaxPooling2D(2)) \n",
    "model_a.add(layers.SeparableConv2D(64, 3, activation='relu')) \n",
    "model_a.add(layers.SeparableConv2D(128, 3, activation='relu')) \n",
    "model_a.add(layers.GlobalAveragePooling2D())\n",
    "model_a.add(layers.Dense(32, activation='relu'))\n",
    "model_a.add(layers.Dense(num_classes, activation='softmax')) "
   ]
  },
  {
   "cell_type": "code",
   "execution_count": 3,
   "metadata": {},
   "outputs": [
    {
     "data": {
      "image/svg+xml": [
       "<svg height=\"944pt\" viewBox=\"0.00 0.00 507.16 944.00\" width=\"507pt\" xmlns=\"http://www.w3.org/2000/svg\" xmlns:xlink=\"http://www.w3.org/1999/xlink\">\n",
       "<g class=\"graph\" id=\"graph0\" transform=\"scale(1 1) rotate(0) translate(4 940)\">\n",
       "<title>G</title>\n",
       "<polygon fill=\"#ffffff\" points=\"-4,4 -4,-940 503.1582,-940 503.1582,4 -4,4\" stroke=\"transparent\"/>\n",
       "<!-- 4681462896 -->\n",
       "<g class=\"node\" id=\"node1\">\n",
       "<title>4681462896</title>\n",
       "<polygon fill=\"none\" points=\"47.7046,-891.5 47.7046,-935.5 451.4536,-935.5 451.4536,-891.5 47.7046,-891.5\" stroke=\"#000000\"/>\n",
       "<text fill=\"#000000\" font-family=\"Times,serif\" font-size=\"14.00\" text-anchor=\"middle\" x=\"165.9204\" y=\"-909.3\">separable_conv2d_1_input: InputLayer</text>\n",
       "<polyline fill=\"none\" points=\"284.1362,-891.5 284.1362,-935.5 \" stroke=\"#000000\"/>\n",
       "<text fill=\"#000000\" font-family=\"Times,serif\" font-size=\"14.00\" text-anchor=\"middle\" x=\"311.9707\" y=\"-920.3\">input:</text>\n",
       "<polyline fill=\"none\" points=\"284.1362,-913.5 339.8052,-913.5 \" stroke=\"#000000\"/>\n",
       "<text fill=\"#000000\" font-family=\"Times,serif\" font-size=\"14.00\" text-anchor=\"middle\" x=\"311.9707\" y=\"-898.3\">output:</text>\n",
       "<polyline fill=\"none\" points=\"339.8052,-891.5 339.8052,-935.5 \" stroke=\"#000000\"/>\n",
       "<text fill=\"#000000\" font-family=\"Times,serif\" font-size=\"14.00\" text-anchor=\"middle\" x=\"395.6294\" y=\"-920.3\">(None, 32, 32, 3)</text>\n",
       "<polyline fill=\"none\" points=\"339.8052,-913.5 451.4536,-913.5 \" stroke=\"#000000\"/>\n",
       "<text fill=\"#000000\" font-family=\"Times,serif\" font-size=\"14.00\" text-anchor=\"middle\" x=\"395.6294\" y=\"-898.3\">(None, 32, 32, 3)</text>\n",
       "</g>\n",
       "<!-- 4681463512 -->\n",
       "<g class=\"node\" id=\"node2\">\n",
       "<title>4681463512</title>\n",
       "<polygon fill=\"none\" points=\"41.8701,-810.5 41.8701,-854.5 457.2881,-854.5 457.2881,-810.5 41.8701,-810.5\" stroke=\"#000000\"/>\n",
       "<text fill=\"#000000\" font-family=\"Times,serif\" font-size=\"14.00\" text-anchor=\"middle\" x=\"162.4204\" y=\"-828.3\">separable_conv2d_1: SeparableConv2D</text>\n",
       "<polyline fill=\"none\" points=\"282.9707,-810.5 282.9707,-854.5 \" stroke=\"#000000\"/>\n",
       "<text fill=\"#000000\" font-family=\"Times,serif\" font-size=\"14.00\" text-anchor=\"middle\" x=\"310.8052\" y=\"-839.3\">input:</text>\n",
       "<polyline fill=\"none\" points=\"282.9707,-832.5 338.6396,-832.5 \" stroke=\"#000000\"/>\n",
       "<text fill=\"#000000\" font-family=\"Times,serif\" font-size=\"14.00\" text-anchor=\"middle\" x=\"310.8052\" y=\"-817.3\">output:</text>\n",
       "<polyline fill=\"none\" points=\"338.6396,-810.5 338.6396,-854.5 \" stroke=\"#000000\"/>\n",
       "<text fill=\"#000000\" font-family=\"Times,serif\" font-size=\"14.00\" text-anchor=\"middle\" x=\"397.9639\" y=\"-839.3\">(None, 32, 32, 3)</text>\n",
       "<polyline fill=\"none\" points=\"338.6396,-832.5 457.2881,-832.5 \" stroke=\"#000000\"/>\n",
       "<text fill=\"#000000\" font-family=\"Times,serif\" font-size=\"14.00\" text-anchor=\"middle\" x=\"397.9639\" y=\"-817.3\">(None, 30, 30, 32)</text>\n",
       "</g>\n",
       "<!-- 4681462896&#45;&gt;4681463512 -->\n",
       "<g class=\"edge\" id=\"edge1\">\n",
       "<title>4681462896-&gt;4681463512</title>\n",
       "<path d=\"M249.5791,-891.3664C249.5791,-883.1516 249.5791,-873.6579 249.5791,-864.7252\" fill=\"none\" stroke=\"#000000\"/>\n",
       "<polygon fill=\"#000000\" points=\"253.0792,-864.6068 249.5791,-854.6068 246.0792,-864.6069 253.0792,-864.6068\" stroke=\"#000000\"/>\n",
       "</g>\n",
       "<!-- 4681463288 -->\n",
       "<g class=\"node\" id=\"node3\">\n",
       "<title>4681463288</title>\n",
       "<polygon fill=\"none\" points=\"41.8701,-729.5 41.8701,-773.5 457.2881,-773.5 457.2881,-729.5 41.8701,-729.5\" stroke=\"#000000\"/>\n",
       "<text fill=\"#000000\" font-family=\"Times,serif\" font-size=\"14.00\" text-anchor=\"middle\" x=\"162.4204\" y=\"-747.3\">separable_conv2d_2: SeparableConv2D</text>\n",
       "<polyline fill=\"none\" points=\"282.9707,-729.5 282.9707,-773.5 \" stroke=\"#000000\"/>\n",
       "<text fill=\"#000000\" font-family=\"Times,serif\" font-size=\"14.00\" text-anchor=\"middle\" x=\"310.8052\" y=\"-758.3\">input:</text>\n",
       "<polyline fill=\"none\" points=\"282.9707,-751.5 338.6396,-751.5 \" stroke=\"#000000\"/>\n",
       "<text fill=\"#000000\" font-family=\"Times,serif\" font-size=\"14.00\" text-anchor=\"middle\" x=\"310.8052\" y=\"-736.3\">output:</text>\n",
       "<polyline fill=\"none\" points=\"338.6396,-729.5 338.6396,-773.5 \" stroke=\"#000000\"/>\n",
       "<text fill=\"#000000\" font-family=\"Times,serif\" font-size=\"14.00\" text-anchor=\"middle\" x=\"397.9639\" y=\"-758.3\">(None, 30, 30, 32)</text>\n",
       "<polyline fill=\"none\" points=\"338.6396,-751.5 457.2881,-751.5 \" stroke=\"#000000\"/>\n",
       "<text fill=\"#000000\" font-family=\"Times,serif\" font-size=\"14.00\" text-anchor=\"middle\" x=\"397.9639\" y=\"-736.3\">(None, 28, 28, 64)</text>\n",
       "</g>\n",
       "<!-- 4681463512&#45;&gt;4681463288 -->\n",
       "<g class=\"edge\" id=\"edge2\">\n",
       "<title>4681463512-&gt;4681463288</title>\n",
       "<path d=\"M249.5791,-810.3664C249.5791,-802.1516 249.5791,-792.6579 249.5791,-783.7252\" fill=\"none\" stroke=\"#000000\"/>\n",
       "<polygon fill=\"#000000\" points=\"253.0792,-783.6068 249.5791,-773.6068 246.0792,-783.6069 253.0792,-783.6068\" stroke=\"#000000\"/>\n",
       "</g>\n",
       "<!-- 4681464408 -->\n",
       "<g class=\"node\" id=\"node4\">\n",
       "<title>4681464408</title>\n",
       "<polygon fill=\"none\" points=\"56.6152,-648.5 56.6152,-692.5 442.543,-692.5 442.543,-648.5 56.6152,-648.5\" stroke=\"#000000\"/>\n",
       "<text fill=\"#000000\" font-family=\"Times,serif\" font-size=\"14.00\" text-anchor=\"middle\" x=\"162.4204\" y=\"-666.3\">max_pooling2d_1: MaxPooling2D</text>\n",
       "<polyline fill=\"none\" points=\"268.2256,-648.5 268.2256,-692.5 \" stroke=\"#000000\"/>\n",
       "<text fill=\"#000000\" font-family=\"Times,serif\" font-size=\"14.00\" text-anchor=\"middle\" x=\"296.0601\" y=\"-677.3\">input:</text>\n",
       "<polyline fill=\"none\" points=\"268.2256,-670.5 323.8945,-670.5 \" stroke=\"#000000\"/>\n",
       "<text fill=\"#000000\" font-family=\"Times,serif\" font-size=\"14.00\" text-anchor=\"middle\" x=\"296.0601\" y=\"-655.3\">output:</text>\n",
       "<polyline fill=\"none\" points=\"323.8945,-648.5 323.8945,-692.5 \" stroke=\"#000000\"/>\n",
       "<text fill=\"#000000\" font-family=\"Times,serif\" font-size=\"14.00\" text-anchor=\"middle\" x=\"383.2188\" y=\"-677.3\">(None, 28, 28, 64)</text>\n",
       "<polyline fill=\"none\" points=\"323.8945,-670.5 442.543,-670.5 \" stroke=\"#000000\"/>\n",
       "<text fill=\"#000000\" font-family=\"Times,serif\" font-size=\"14.00\" text-anchor=\"middle\" x=\"383.2188\" y=\"-655.3\">(None, 14, 14, 64)</text>\n",
       "</g>\n",
       "<!-- 4681463288&#45;&gt;4681464408 -->\n",
       "<g class=\"edge\" id=\"edge3\">\n",
       "<title>4681463288-&gt;4681464408</title>\n",
       "<path d=\"M249.5791,-729.3664C249.5791,-721.1516 249.5791,-711.6579 249.5791,-702.7252\" fill=\"none\" stroke=\"#000000\"/>\n",
       "<polygon fill=\"#000000\" points=\"253.0792,-702.6068 249.5791,-692.6068 246.0792,-702.6069 253.0792,-702.6068\" stroke=\"#000000\"/>\n",
       "</g>\n",
       "<!-- 4897035208 -->\n",
       "<g class=\"node\" id=\"node5\">\n",
       "<title>4897035208</title>\n",
       "<polygon fill=\"none\" points=\"41.8701,-567.5 41.8701,-611.5 457.2881,-611.5 457.2881,-567.5 41.8701,-567.5\" stroke=\"#000000\"/>\n",
       "<text fill=\"#000000\" font-family=\"Times,serif\" font-size=\"14.00\" text-anchor=\"middle\" x=\"162.4204\" y=\"-585.3\">separable_conv2d_3: SeparableConv2D</text>\n",
       "<polyline fill=\"none\" points=\"282.9707,-567.5 282.9707,-611.5 \" stroke=\"#000000\"/>\n",
       "<text fill=\"#000000\" font-family=\"Times,serif\" font-size=\"14.00\" text-anchor=\"middle\" x=\"310.8052\" y=\"-596.3\">input:</text>\n",
       "<polyline fill=\"none\" points=\"282.9707,-589.5 338.6396,-589.5 \" stroke=\"#000000\"/>\n",
       "<text fill=\"#000000\" font-family=\"Times,serif\" font-size=\"14.00\" text-anchor=\"middle\" x=\"310.8052\" y=\"-574.3\">output:</text>\n",
       "<polyline fill=\"none\" points=\"338.6396,-567.5 338.6396,-611.5 \" stroke=\"#000000\"/>\n",
       "<text fill=\"#000000\" font-family=\"Times,serif\" font-size=\"14.00\" text-anchor=\"middle\" x=\"397.9639\" y=\"-596.3\">(None, 14, 14, 64)</text>\n",
       "<polyline fill=\"none\" points=\"338.6396,-589.5 457.2881,-589.5 \" stroke=\"#000000\"/>\n",
       "<text fill=\"#000000\" font-family=\"Times,serif\" font-size=\"14.00\" text-anchor=\"middle\" x=\"397.9639\" y=\"-574.3\">(None, 12, 12, 64)</text>\n",
       "</g>\n",
       "<!-- 4681464408&#45;&gt;4897035208 -->\n",
       "<g class=\"edge\" id=\"edge4\">\n",
       "<title>4681464408-&gt;4897035208</title>\n",
       "<path d=\"M249.5791,-648.3664C249.5791,-640.1516 249.5791,-630.6579 249.5791,-621.7252\" fill=\"none\" stroke=\"#000000\"/>\n",
       "<polygon fill=\"#000000\" points=\"253.0792,-621.6068 249.5791,-611.6068 246.0792,-621.6069 253.0792,-621.6068\" stroke=\"#000000\"/>\n",
       "</g>\n",
       "<!-- 4897115272 -->\n",
       "<g class=\"node\" id=\"node6\">\n",
       "<title>4897115272</title>\n",
       "<polygon fill=\"none\" points=\"38.3701,-486.5 38.3701,-530.5 460.7881,-530.5 460.7881,-486.5 38.3701,-486.5\" stroke=\"#000000\"/>\n",
       "<text fill=\"#000000\" font-family=\"Times,serif\" font-size=\"14.00\" text-anchor=\"middle\" x=\"158.9204\" y=\"-504.3\">separable_conv2d_4: SeparableConv2D</text>\n",
       "<polyline fill=\"none\" points=\"279.4707,-486.5 279.4707,-530.5 \" stroke=\"#000000\"/>\n",
       "<text fill=\"#000000\" font-family=\"Times,serif\" font-size=\"14.00\" text-anchor=\"middle\" x=\"307.3052\" y=\"-515.3\">input:</text>\n",
       "<polyline fill=\"none\" points=\"279.4707,-508.5 335.1396,-508.5 \" stroke=\"#000000\"/>\n",
       "<text fill=\"#000000\" font-family=\"Times,serif\" font-size=\"14.00\" text-anchor=\"middle\" x=\"307.3052\" y=\"-493.3\">output:</text>\n",
       "<polyline fill=\"none\" points=\"335.1396,-486.5 335.1396,-530.5 \" stroke=\"#000000\"/>\n",
       "<text fill=\"#000000\" font-family=\"Times,serif\" font-size=\"14.00\" text-anchor=\"middle\" x=\"397.9639\" y=\"-515.3\">(None, 12, 12, 64)</text>\n",
       "<polyline fill=\"none\" points=\"335.1396,-508.5 460.7881,-508.5 \" stroke=\"#000000\"/>\n",
       "<text fill=\"#000000\" font-family=\"Times,serif\" font-size=\"14.00\" text-anchor=\"middle\" x=\"397.9639\" y=\"-493.3\">(None, 10, 10, 128)</text>\n",
       "</g>\n",
       "<!-- 4897035208&#45;&gt;4897115272 -->\n",
       "<g class=\"edge\" id=\"edge5\">\n",
       "<title>4897035208-&gt;4897115272</title>\n",
       "<path d=\"M249.5791,-567.3664C249.5791,-559.1516 249.5791,-549.6579 249.5791,-540.7252\" fill=\"none\" stroke=\"#000000\"/>\n",
       "<polygon fill=\"#000000\" points=\"253.0792,-540.6068 249.5791,-530.6068 246.0792,-540.6069 253.0792,-540.6068\" stroke=\"#000000\"/>\n",
       "</g>\n",
       "<!-- 4897114096 -->\n",
       "<g class=\"node\" id=\"node7\">\n",
       "<title>4897114096</title>\n",
       "<polygon fill=\"none\" points=\"53.1152,-405.5 53.1152,-449.5 446.043,-449.5 446.043,-405.5 53.1152,-405.5\" stroke=\"#000000\"/>\n",
       "<text fill=\"#000000\" font-family=\"Times,serif\" font-size=\"14.00\" text-anchor=\"middle\" x=\"158.9204\" y=\"-423.3\">max_pooling2d_2: MaxPooling2D</text>\n",
       "<polyline fill=\"none\" points=\"264.7256,-405.5 264.7256,-449.5 \" stroke=\"#000000\"/>\n",
       "<text fill=\"#000000\" font-family=\"Times,serif\" font-size=\"14.00\" text-anchor=\"middle\" x=\"292.5601\" y=\"-434.3\">input:</text>\n",
       "<polyline fill=\"none\" points=\"264.7256,-427.5 320.3945,-427.5 \" stroke=\"#000000\"/>\n",
       "<text fill=\"#000000\" font-family=\"Times,serif\" font-size=\"14.00\" text-anchor=\"middle\" x=\"292.5601\" y=\"-412.3\">output:</text>\n",
       "<polyline fill=\"none\" points=\"320.3945,-405.5 320.3945,-449.5 \" stroke=\"#000000\"/>\n",
       "<text fill=\"#000000\" font-family=\"Times,serif\" font-size=\"14.00\" text-anchor=\"middle\" x=\"383.2188\" y=\"-434.3\">(None, 10, 10, 128)</text>\n",
       "<polyline fill=\"none\" points=\"320.3945,-427.5 446.043,-427.5 \" stroke=\"#000000\"/>\n",
       "<text fill=\"#000000\" font-family=\"Times,serif\" font-size=\"14.00\" text-anchor=\"middle\" x=\"383.2188\" y=\"-412.3\">(None, 5, 5, 128)</text>\n",
       "</g>\n",
       "<!-- 4897115272&#45;&gt;4897114096 -->\n",
       "<g class=\"edge\" id=\"edge6\">\n",
       "<title>4897115272-&gt;4897114096</title>\n",
       "<path d=\"M249.5791,-486.3664C249.5791,-478.1516 249.5791,-468.6579 249.5791,-459.7252\" fill=\"none\" stroke=\"#000000\"/>\n",
       "<polygon fill=\"#000000\" points=\"253.0792,-459.6068 249.5791,-449.6068 246.0792,-459.6069 253.0792,-459.6068\" stroke=\"#000000\"/>\n",
       "</g>\n",
       "<!-- 4896906656 -->\n",
       "<g class=\"node\" id=\"node8\">\n",
       "<title>4896906656</title>\n",
       "<polygon fill=\"none\" points=\"45.3701,-324.5 45.3701,-368.5 453.7881,-368.5 453.7881,-324.5 45.3701,-324.5\" stroke=\"#000000\"/>\n",
       "<text fill=\"#000000\" font-family=\"Times,serif\" font-size=\"14.00\" text-anchor=\"middle\" x=\"165.9204\" y=\"-342.3\">separable_conv2d_5: SeparableConv2D</text>\n",
       "<polyline fill=\"none\" points=\"286.4707,-324.5 286.4707,-368.5 \" stroke=\"#000000\"/>\n",
       "<text fill=\"#000000\" font-family=\"Times,serif\" font-size=\"14.00\" text-anchor=\"middle\" x=\"314.3052\" y=\"-353.3\">input:</text>\n",
       "<polyline fill=\"none\" points=\"286.4707,-346.5 342.1396,-346.5 \" stroke=\"#000000\"/>\n",
       "<text fill=\"#000000\" font-family=\"Times,serif\" font-size=\"14.00\" text-anchor=\"middle\" x=\"314.3052\" y=\"-331.3\">output:</text>\n",
       "<polyline fill=\"none\" points=\"342.1396,-324.5 342.1396,-368.5 \" stroke=\"#000000\"/>\n",
       "<text fill=\"#000000\" font-family=\"Times,serif\" font-size=\"14.00\" text-anchor=\"middle\" x=\"397.9639\" y=\"-353.3\">(None, 5, 5, 128)</text>\n",
       "<polyline fill=\"none\" points=\"342.1396,-346.5 453.7881,-346.5 \" stroke=\"#000000\"/>\n",
       "<text fill=\"#000000\" font-family=\"Times,serif\" font-size=\"14.00\" text-anchor=\"middle\" x=\"397.9639\" y=\"-331.3\">(None, 3, 3, 64)</text>\n",
       "</g>\n",
       "<!-- 4897114096&#45;&gt;4896906656 -->\n",
       "<g class=\"edge\" id=\"edge7\">\n",
       "<title>4897114096-&gt;4896906656</title>\n",
       "<path d=\"M249.5791,-405.3664C249.5791,-397.1516 249.5791,-387.6579 249.5791,-378.7252\" fill=\"none\" stroke=\"#000000\"/>\n",
       "<polygon fill=\"#000000\" points=\"253.0792,-378.6068 249.5791,-368.6068 246.0792,-378.6069 253.0792,-378.6068\" stroke=\"#000000\"/>\n",
       "</g>\n",
       "<!-- 4808559696 -->\n",
       "<g class=\"node\" id=\"node9\">\n",
       "<title>4808559696</title>\n",
       "<polygon fill=\"none\" points=\"45.3701,-243.5 45.3701,-287.5 453.7881,-287.5 453.7881,-243.5 45.3701,-243.5\" stroke=\"#000000\"/>\n",
       "<text fill=\"#000000\" font-family=\"Times,serif\" font-size=\"14.00\" text-anchor=\"middle\" x=\"165.9204\" y=\"-261.3\">separable_conv2d_6: SeparableConv2D</text>\n",
       "<polyline fill=\"none\" points=\"286.4707,-243.5 286.4707,-287.5 \" stroke=\"#000000\"/>\n",
       "<text fill=\"#000000\" font-family=\"Times,serif\" font-size=\"14.00\" text-anchor=\"middle\" x=\"314.3052\" y=\"-272.3\">input:</text>\n",
       "<polyline fill=\"none\" points=\"286.4707,-265.5 342.1396,-265.5 \" stroke=\"#000000\"/>\n",
       "<text fill=\"#000000\" font-family=\"Times,serif\" font-size=\"14.00\" text-anchor=\"middle\" x=\"314.3052\" y=\"-250.3\">output:</text>\n",
       "<polyline fill=\"none\" points=\"342.1396,-243.5 342.1396,-287.5 \" stroke=\"#000000\"/>\n",
       "<text fill=\"#000000\" font-family=\"Times,serif\" font-size=\"14.00\" text-anchor=\"middle\" x=\"397.9639\" y=\"-272.3\">(None, 3, 3, 64)</text>\n",
       "<polyline fill=\"none\" points=\"342.1396,-265.5 453.7881,-265.5 \" stroke=\"#000000\"/>\n",
       "<text fill=\"#000000\" font-family=\"Times,serif\" font-size=\"14.00\" text-anchor=\"middle\" x=\"397.9639\" y=\"-250.3\">(None, 1, 1, 128)</text>\n",
       "</g>\n",
       "<!-- 4896906656&#45;&gt;4808559696 -->\n",
       "<g class=\"edge\" id=\"edge8\">\n",
       "<title>4896906656-&gt;4808559696</title>\n",
       "<path d=\"M249.5791,-324.3664C249.5791,-316.1516 249.5791,-306.6579 249.5791,-297.7252\" fill=\"none\" stroke=\"#000000\"/>\n",
       "<polygon fill=\"#000000\" points=\"253.0792,-297.6068 249.5791,-287.6068 246.0792,-297.6069 253.0792,-297.6068\" stroke=\"#000000\"/>\n",
       "</g>\n",
       "<!-- 4808620464 -->\n",
       "<g class=\"node\" id=\"node10\">\n",
       "<title>4808620464</title>\n",
       "<polygon fill=\"none\" points=\"0,-162.5 0,-206.5 499.1582,-206.5 499.1582,-162.5 0,-162.5\" stroke=\"#000000\"/>\n",
       "<text fill=\"#000000\" font-family=\"Times,serif\" font-size=\"14.00\" text-anchor=\"middle\" x=\"165.9204\" y=\"-180.3\">global_average_pooling2d_1: GlobalAveragePooling2D</text>\n",
       "<polyline fill=\"none\" points=\"331.8408,-162.5 331.8408,-206.5 \" stroke=\"#000000\"/>\n",
       "<text fill=\"#000000\" font-family=\"Times,serif\" font-size=\"14.00\" text-anchor=\"middle\" x=\"359.6753\" y=\"-191.3\">input:</text>\n",
       "<polyline fill=\"none\" points=\"331.8408,-184.5 387.5098,-184.5 \" stroke=\"#000000\"/>\n",
       "<text fill=\"#000000\" font-family=\"Times,serif\" font-size=\"14.00\" text-anchor=\"middle\" x=\"359.6753\" y=\"-169.3\">output:</text>\n",
       "<polyline fill=\"none\" points=\"387.5098,-162.5 387.5098,-206.5 \" stroke=\"#000000\"/>\n",
       "<text fill=\"#000000\" font-family=\"Times,serif\" font-size=\"14.00\" text-anchor=\"middle\" x=\"443.334\" y=\"-191.3\">(None, 1, 1, 128)</text>\n",
       "<polyline fill=\"none\" points=\"387.5098,-184.5 499.1582,-184.5 \" stroke=\"#000000\"/>\n",
       "<text fill=\"#000000\" font-family=\"Times,serif\" font-size=\"14.00\" text-anchor=\"middle\" x=\"443.334\" y=\"-169.3\">(None, 128)</text>\n",
       "</g>\n",
       "<!-- 4808559696&#45;&gt;4808620464 -->\n",
       "<g class=\"edge\" id=\"edge9\">\n",
       "<title>4808559696-&gt;4808620464</title>\n",
       "<path d=\"M249.5791,-243.3664C249.5791,-235.1516 249.5791,-225.6579 249.5791,-216.7252\" fill=\"none\" stroke=\"#000000\"/>\n",
       "<polygon fill=\"#000000\" points=\"253.0792,-216.6068 249.5791,-206.6068 246.0792,-216.6069 253.0792,-216.6068\" stroke=\"#000000\"/>\n",
       "</g>\n",
       "<!-- 4809082640 -->\n",
       "<g class=\"node\" id=\"node11\">\n",
       "<title>4809082640</title>\n",
       "<polygon fill=\"none\" points=\"127.7944,-81.5 127.7944,-125.5 371.3638,-125.5 371.3638,-81.5 127.7944,-81.5\" stroke=\"#000000\"/>\n",
       "<text fill=\"#000000\" font-family=\"Times,serif\" font-size=\"14.00\" text-anchor=\"middle\" x=\"179.9204\" y=\"-99.3\">dense_1: Dense</text>\n",
       "<polyline fill=\"none\" points=\"232.0464,-81.5 232.0464,-125.5 \" stroke=\"#000000\"/>\n",
       "<text fill=\"#000000\" font-family=\"Times,serif\" font-size=\"14.00\" text-anchor=\"middle\" x=\"259.8809\" y=\"-110.3\">input:</text>\n",
       "<polyline fill=\"none\" points=\"232.0464,-103.5 287.7153,-103.5 \" stroke=\"#000000\"/>\n",
       "<text fill=\"#000000\" font-family=\"Times,serif\" font-size=\"14.00\" text-anchor=\"middle\" x=\"259.8809\" y=\"-88.3\">output:</text>\n",
       "<polyline fill=\"none\" points=\"287.7153,-81.5 287.7153,-125.5 \" stroke=\"#000000\"/>\n",
       "<text fill=\"#000000\" font-family=\"Times,serif\" font-size=\"14.00\" text-anchor=\"middle\" x=\"329.5396\" y=\"-110.3\">(None, 128)</text>\n",
       "<polyline fill=\"none\" points=\"287.7153,-103.5 371.3638,-103.5 \" stroke=\"#000000\"/>\n",
       "<text fill=\"#000000\" font-family=\"Times,serif\" font-size=\"14.00\" text-anchor=\"middle\" x=\"329.5396\" y=\"-88.3\">(None, 32)</text>\n",
       "</g>\n",
       "<!-- 4808620464&#45;&gt;4809082640 -->\n",
       "<g class=\"edge\" id=\"edge10\">\n",
       "<title>4808620464-&gt;4809082640</title>\n",
       "<path d=\"M249.5791,-162.3664C249.5791,-154.1516 249.5791,-144.6579 249.5791,-135.7252\" fill=\"none\" stroke=\"#000000\"/>\n",
       "<polygon fill=\"#000000\" points=\"253.0792,-135.6068 249.5791,-125.6068 246.0792,-135.6069 253.0792,-135.6068\" stroke=\"#000000\"/>\n",
       "</g>\n",
       "<!-- 4809082584 -->\n",
       "<g class=\"node\" id=\"node12\">\n",
       "<title>4809082584</title>\n",
       "<polygon fill=\"none\" points=\"131.2944,-.5 131.2944,-44.5 367.8638,-44.5 367.8638,-.5 131.2944,-.5\" stroke=\"#000000\"/>\n",
       "<text fill=\"#000000\" font-family=\"Times,serif\" font-size=\"14.00\" text-anchor=\"middle\" x=\"183.4204\" y=\"-18.3\">dense_2: Dense</text>\n",
       "<polyline fill=\"none\" points=\"235.5464,-.5 235.5464,-44.5 \" stroke=\"#000000\"/>\n",
       "<text fill=\"#000000\" font-family=\"Times,serif\" font-size=\"14.00\" text-anchor=\"middle\" x=\"263.3809\" y=\"-29.3\">input:</text>\n",
       "<polyline fill=\"none\" points=\"235.5464,-22.5 291.2153,-22.5 \" stroke=\"#000000\"/>\n",
       "<text fill=\"#000000\" font-family=\"Times,serif\" font-size=\"14.00\" text-anchor=\"middle\" x=\"263.3809\" y=\"-7.3\">output:</text>\n",
       "<polyline fill=\"none\" points=\"291.2153,-.5 291.2153,-44.5 \" stroke=\"#000000\"/>\n",
       "<text fill=\"#000000\" font-family=\"Times,serif\" font-size=\"14.00\" text-anchor=\"middle\" x=\"329.5396\" y=\"-29.3\">(None, 32)</text>\n",
       "<polyline fill=\"none\" points=\"291.2153,-22.5 367.8638,-22.5 \" stroke=\"#000000\"/>\n",
       "<text fill=\"#000000\" font-family=\"Times,serif\" font-size=\"14.00\" text-anchor=\"middle\" x=\"329.5396\" y=\"-7.3\">(None, 10)</text>\n",
       "</g>\n",
       "<!-- 4809082640&#45;&gt;4809082584 -->\n",
       "<g class=\"edge\" id=\"edge11\">\n",
       "<title>4809082640-&gt;4809082584</title>\n",
       "<path d=\"M249.5791,-81.3664C249.5791,-73.1516 249.5791,-63.6579 249.5791,-54.7252\" fill=\"none\" stroke=\"#000000\"/>\n",
       "<polygon fill=\"#000000\" points=\"253.0792,-54.6068 249.5791,-44.6068 246.0792,-54.6069 253.0792,-54.6068\" stroke=\"#000000\"/>\n",
       "</g>\n",
       "</g>\n",
       "</svg>"
      ],
      "text/plain": [
       "<IPython.core.display.SVG object>"
      ]
     },
     "execution_count": 3,
     "metadata": {},
     "output_type": "execute_result"
    }
   ],
   "source": [
    "from keras.utils import plot_model \n",
    "plot_model(model_a, to_file='model.png')\n",
    "\n",
    "from IPython.display import SVG\n",
    "from keras.utils.vis_utils import model_to_dot\n",
    "\n",
    "SVG(model_to_dot(model_a,show_shapes=True).create(prog='dot', format='svg'))"
   ]
  },
  {
   "cell_type": "code",
   "execution_count": 4,
   "metadata": {},
   "outputs": [],
   "source": [
    "model_a.compile(loss='categorical_crossentropy',\n",
    "              optimizer='rmsprop',\n",
    "              # Adding accuracy metrics \n",
    "              metrics=['accuracy'])"
   ]
  },
  {
   "cell_type": "code",
   "execution_count": 5,
   "metadata": {
    "scrolled": true
   },
   "outputs": [
    {
     "name": "stdout",
     "output_type": "stream",
     "text": [
      "Train on 50000 samples, validate on 10000 samples\n",
      "Epoch 1/12\n",
      "50000/50000 [==============================] - 129s 3ms/step - loss: 2.1582 - acc: 0.1693 - val_loss: 2.0166 - val_acc: 0.2208\n",
      "Epoch 2/12\n",
      "50000/50000 [==============================] - 137s 3ms/step - loss: 2.0176 - acc: 0.2264 - val_loss: 1.9674 - val_acc: 0.2391\n",
      "Epoch 3/12\n",
      "50000/50000 [==============================] - 122s 2ms/step - loss: 1.8919 - acc: 0.2909 - val_loss: 1.7557 - val_acc: 0.3471\n",
      "Epoch 4/12\n",
      "50000/50000 [==============================] - 122s 2ms/step - loss: 1.7365 - acc: 0.3600 - val_loss: 1.6748 - val_acc: 0.3809\n",
      "Epoch 5/12\n",
      "50000/50000 [==============================] - 122s 2ms/step - loss: 1.6425 - acc: 0.3938 - val_loss: 1.6267 - val_acc: 0.3992\n",
      "Epoch 6/12\n",
      "50000/50000 [==============================] - 122s 2ms/step - loss: 1.5551 - acc: 0.4253 - val_loss: 1.4858 - val_acc: 0.4512\n",
      "Epoch 7/12\n",
      "50000/50000 [==============================] - 122s 2ms/step - loss: 1.4807 - acc: 0.4563 - val_loss: 1.4300 - val_acc: 0.4763\n",
      "Epoch 8/12\n",
      "50000/50000 [==============================] - 125s 3ms/step - loss: 1.4038 - acc: 0.4891 - val_loss: 1.3956 - val_acc: 0.4882\n",
      "Epoch 9/12\n",
      "50000/50000 [==============================] - 124s 2ms/step - loss: 1.3440 - acc: 0.5156 - val_loss: 1.3122 - val_acc: 0.5220\n",
      "Epoch 10/12\n",
      "50000/50000 [==============================] - 124s 2ms/step - loss: 1.2900 - acc: 0.5347 - val_loss: 1.3016 - val_acc: 0.5330\n",
      "Epoch 11/12\n",
      "50000/50000 [==============================] - 123s 2ms/step - loss: 1.2447 - acc: 0.5542 - val_loss: 1.2474 - val_acc: 0.5587\n",
      "Epoch 12/12\n",
      "50000/50000 [==============================] - 124s 2ms/step - loss: 1.2047 - acc: 0.5707 - val_loss: 1.2423 - val_acc: 0.5547\n"
     ]
    },
    {
     "data": {
      "text/plain": [
       "<keras.callbacks.History at 0x11ed1c2e8>"
      ]
     },
     "execution_count": 5,
     "metadata": {},
     "output_type": "execute_result"
    }
   ],
   "source": [
    "model_a.fit(x_train, y_train,\n",
    "          batch_size=batch_size,\n",
    "          epochs=epochs,\n",
    "          verbose=1,\n",
    "          validation_data=(x_test, y_test))"
   ]
  },
  {
   "cell_type": "code",
   "execution_count": 6,
   "metadata": {},
   "outputs": [
    {
     "name": "stdout",
     "output_type": "stream",
     "text": [
      "Test loss: 1.2422938819885254\n",
      "Test accuracy: 0.5547\n"
     ]
    }
   ],
   "source": [
    "score = model_a.evaluate(x_test, y_test, verbose=0)\n",
    "print('Test loss:', score[0])\n",
    "print('Test accuracy:', score[1])"
   ]
  },
  {
   "cell_type": "markdown",
   "metadata": {},
   "source": [
    "#### Regular Training with a simple ConvNet \n",
    "#####  on the CIFAR10 dataset"
   ]
  },
  {
   "cell_type": "code",
   "execution_count": 7,
   "metadata": {
    "scrolled": true
   },
   "outputs": [
    {
     "name": "stdout",
     "output_type": "stream",
     "text": [
      "x_train shape: (50000, 32, 32, 3)\n",
      "50000 train samples\n",
      "10000 test samples\n",
      "Train on 50000 samples, validate on 10000 samples\n",
      "Epoch 1/12\n",
      "50000/50000 [==============================] - 194s 4ms/step - loss: 1.7161 - acc: 0.3882 - val_loss: 1.3520 - val_acc: 0.5259\n",
      "Epoch 2/12\n",
      "50000/50000 [==============================] - 183s 4ms/step - loss: 1.3432 - acc: 0.5291 - val_loss: 1.1278 - val_acc: 0.6147\n",
      "Epoch 3/12\n",
      "50000/50000 [==============================] - 183s 4ms/step - loss: 1.1743 - acc: 0.5923 - val_loss: 1.1032 - val_acc: 0.6234\n",
      "Epoch 4/12\n",
      "50000/50000 [==============================] - 190s 4ms/step - loss: 1.0651 - acc: 0.6347 - val_loss: 1.0012 - val_acc: 0.6472\n",
      "Epoch 5/12\n",
      "50000/50000 [==============================] - 205s 4ms/step - loss: 0.9934 - acc: 0.6565 - val_loss: 0.9446 - val_acc: 0.6699\n",
      "Epoch 6/12\n",
      "50000/50000 [==============================] - 187s 4ms/step - loss: 0.9389 - acc: 0.6780 - val_loss: 1.0121 - val_acc: 0.6514\n",
      "Epoch 7/12\n",
      "50000/50000 [==============================] - 181s 4ms/step - loss: 0.8992 - acc: 0.6922 - val_loss: 0.9320 - val_acc: 0.6819\n",
      "Epoch 8/12\n",
      "50000/50000 [==============================] - 181s 4ms/step - loss: 0.8658 - acc: 0.7038 - val_loss: 0.9263 - val_acc: 0.6889\n",
      "Epoch 9/12\n",
      "50000/50000 [==============================] - 182s 4ms/step - loss: 0.8423 - acc: 0.7121 - val_loss: 0.9662 - val_acc: 0.7009\n",
      "Epoch 10/12\n",
      "50000/50000 [==============================] - 184s 4ms/step - loss: 0.8185 - acc: 0.7221 - val_loss: 0.9219 - val_acc: 0.7058\n",
      "Epoch 11/12\n",
      "50000/50000 [==============================] - 182s 4ms/step - loss: 0.8025 - acc: 0.7251 - val_loss: 0.9819 - val_acc: 0.6878\n",
      "Epoch 12/12\n",
      "50000/50000 [==============================] - 181s 4ms/step - loss: 0.7974 - acc: 0.7279 - val_loss: 1.0200 - val_acc: 0.6947\n"
     ]
    },
    {
     "data": {
      "text/plain": [
       "<keras.callbacks.History at 0x11f7d0eb8>"
      ]
     },
     "execution_count": 7,
     "metadata": {},
     "output_type": "execute_result"
    }
   ],
   "source": [
    "'''\n",
    "Trains a simple convnet on the CIFAR10 dataset.\n",
    "with rmsprop optimizer\n",
    "'''\n",
    "\n",
    "from __future__ import print_function\n",
    "import keras\n",
    "from keras.datasets import cifar10\n",
    "from keras.models import Sequential\n",
    "from keras import layers\n",
    "from keras.layers import Dense, Dropout, Flatten\n",
    "from keras.layers import Conv2D, MaxPooling2D\n",
    "from keras import backend as K\n",
    "\n",
    "batch_size = 128\n",
    "num_classes = 10\n",
    "epochs = 12\n",
    "\n",
    "# input image dimensions\n",
    "img_height = 32\n",
    "img_width = 32\n",
    "channels = 3\n",
    "\n",
    "# the data, split between train and test sets\n",
    "(x_train, y_train), (x_test, y_test) = cifar10.load_data()\n",
    "\n",
    "if K.image_data_format() == 'channels_first':\n",
    "    x_train = x_train.reshape(x_train.shape[0], channels, img_height, img_width)\n",
    "    x_test = x_test.reshape(x_test.shape[0], channels, img_height, img_width)\n",
    "    input_shape = (channels, img_height, img_width)\n",
    "else:\n",
    "    x_train = x_train.reshape(x_train.shape[0], img_height, img_width, channels)\n",
    "    x_test = x_test.reshape(x_test.shape[0], img_height, img_width, channels)\n",
    "    input_shape = (img_height, img_width, channels)\n",
    "\n",
    "x_train = x_train.astype('float32')\n",
    "x_test = x_test.astype('float32')\n",
    "x_train /= 255\n",
    "x_test /= 255\n",
    "print('x_train shape:', x_train.shape)\n",
    "print(x_train.shape[0], 'train samples')\n",
    "print(x_test.shape[0], 'test samples')\n",
    "\n",
    "# convert class vectors to binary class matrices\n",
    "y_train = keras.utils.to_categorical(y_train, num_classes)\n",
    "y_test = keras.utils.to_categorical(y_test, num_classes)\n",
    "\n",
    "model_b = Sequential()\n",
    "model_b.add(Conv2D(32, kernel_size=(3, 3),\n",
    "                 activation='relu',\n",
    "                 input_shape=input_shape))\n",
    "model_b.add(Conv2D(64, (3, 3), activation='relu'))\n",
    "model_b.add(MaxPooling2D(pool_size=(2, 2)))\n",
    "model_b.add(Dropout(0.25))\n",
    "model_b.add(Flatten())\n",
    "model_b.add(Dense(128, activation='relu'))\n",
    "model_b.add(Dropout(0.5))\n",
    "model_b.add(Dense(num_classes, activation='softmax'))\n",
    "\n",
    "model_b.compile(loss='categorical_crossentropy',\n",
    "              # replace by rmsprop for comparison\n",
    "              optimizer='rmsprop',\n",
    "              # Adding accuracy metrics \n",
    "              metrics=['accuracy'])\n",
    "\n",
    "model_b.fit(x_train, y_train,\n",
    "          batch_size=batch_size,\n",
    "          epochs=epochs,\n",
    "          verbose=1,\n",
    "          validation_data=(x_test, y_test))"
   ]
  },
  {
   "cell_type": "code",
   "execution_count": 8,
   "metadata": {},
   "outputs": [
    {
     "name": "stdout",
     "output_type": "stream",
     "text": [
      "Test loss: 1.0200157299995423\n",
      "Test accuracy: 0.6947\n"
     ]
    }
   ],
   "source": [
    "score = model_b.evaluate(x_test, y_test, verbose=0)\n",
    "print('Test loss:', score[0])\n",
    "print('Test accuracy:', score[1])"
   ]
  },
  {
   "cell_type": "markdown",
   "metadata": {},
   "source": [
    "The results are not very convincing. Depthwise separable convolution gives an accuracy of 55% that is inferior to the 70% of the simple ConvNet model. Probably that the model is not big /deep enough. "
   ]
  },
  {
   "cell_type": "code",
   "execution_count": 9,
   "metadata": {
    "scrolled": true
   },
   "outputs": [
    {
     "name": "stdout",
     "output_type": "stream",
     "text": [
      "x_train shape: (50000, 32, 32, 3)\n",
      "50000 train samples\n",
      "10000 test samples\n",
      "Train on 50000 samples, validate on 10000 samples\n",
      "Epoch 1/12\n",
      "50000/50000 [==============================] - 183s 4ms/step - loss: 1.7743 - acc: 0.3586 - val_loss: 1.4737 - val_acc: 0.4802\n",
      "Epoch 2/12\n",
      "50000/50000 [==============================] - 182s 4ms/step - loss: 1.3667 - acc: 0.5130 - val_loss: 1.1651 - val_acc: 0.5912\n",
      "Epoch 3/12\n",
      "50000/50000 [==============================] - 182s 4ms/step - loss: 1.2171 - acc: 0.5734 - val_loss: 1.0795 - val_acc: 0.6203\n",
      "Epoch 4/12\n",
      "50000/50000 [==============================] - 183s 4ms/step - loss: 1.1214 - acc: 0.6055 - val_loss: 1.0333 - val_acc: 0.6424\n",
      "Epoch 5/12\n",
      "50000/50000 [==============================] - 182s 4ms/step - loss: 1.0562 - acc: 0.6320 - val_loss: 1.0042 - val_acc: 0.6457\n",
      "Epoch 6/12\n",
      "50000/50000 [==============================] - 183s 4ms/step - loss: 0.9970 - acc: 0.6511 - val_loss: 0.9713 - val_acc: 0.6622\n",
      "Epoch 7/12\n",
      "50000/50000 [==============================] - 182s 4ms/step - loss: 0.9517 - acc: 0.6686 - val_loss: 0.9391 - val_acc: 0.6748\n",
      "Epoch 8/12\n",
      "50000/50000 [==============================] - 182s 4ms/step - loss: 0.9142 - acc: 0.6809 - val_loss: 0.9251 - val_acc: 0.6795\n",
      "Epoch 9/12\n",
      "50000/50000 [==============================] - 183s 4ms/step - loss: 0.8742 - acc: 0.6966 - val_loss: 0.9123 - val_acc: 0.6829\n",
      "Epoch 10/12\n",
      "50000/50000 [==============================] - 181s 4ms/step - loss: 0.8425 - acc: 0.7058 - val_loss: 0.8912 - val_acc: 0.6928\n",
      "Epoch 11/12\n",
      "50000/50000 [==============================] - 182s 4ms/step - loss: 0.8139 - acc: 0.7167 - val_loss: 0.9201 - val_acc: 0.6799\n",
      "Epoch 12/12\n",
      "50000/50000 [==============================] - 186s 4ms/step - loss: 0.7846 - acc: 0.7259 - val_loss: 0.8698 - val_acc: 0.6938\n"
     ]
    },
    {
     "data": {
      "text/plain": [
       "<keras.callbacks.History at 0x120343668>"
      ]
     },
     "execution_count": 9,
     "metadata": {},
     "output_type": "execute_result"
    }
   ],
   "source": [
    "'''\n",
    "Trains a simple convnet on the CIFAR10 dataset.\n",
    "with Adadelta optimizer\n",
    "'''\n",
    "\n",
    "from __future__ import print_function\n",
    "import keras\n",
    "from keras.datasets import cifar10\n",
    "from keras.models import Sequential\n",
    "from keras import layers\n",
    "from keras.layers import Dense, Dropout, Flatten\n",
    "from keras.layers import Conv2D, MaxPooling2D\n",
    "from keras import backend as K\n",
    "\n",
    "batch_size = 128\n",
    "num_classes = 10\n",
    "epochs = 12\n",
    "\n",
    "# input image dimensions\n",
    "img_height = 32\n",
    "img_width = 32\n",
    "channels = 3\n",
    "\n",
    "# the data, split between train and test sets\n",
    "(x_train, y_train), (x_test, y_test) = cifar10.load_data()\n",
    "\n",
    "if K.image_data_format() == 'channels_first':\n",
    "    x_train = x_train.reshape(x_train.shape[0], channels, img_height, img_width)\n",
    "    x_test = x_test.reshape(x_test.shape[0], channels, img_height, img_width)\n",
    "    input_shape = (channels, img_height, img_width)\n",
    "else:\n",
    "    x_train = x_train.reshape(x_train.shape[0], img_height, img_width, channels)\n",
    "    x_test = x_test.reshape(x_test.shape[0], img_height, img_width, channels)\n",
    "    input_shape = (img_height, img_width, channels)\n",
    "\n",
    "x_train = x_train.astype('float32')\n",
    "x_test = x_test.astype('float32')\n",
    "x_train /= 255\n",
    "x_test /= 255\n",
    "print('x_train shape:', x_train.shape)\n",
    "print(x_train.shape[0], 'train samples')\n",
    "print(x_test.shape[0], 'test samples')\n",
    "\n",
    "# convert class vectors to binary class matrices\n",
    "y_train = keras.utils.to_categorical(y_train, num_classes)\n",
    "y_test = keras.utils.to_categorical(y_test, num_classes)\n",
    "\n",
    "model_c = Sequential()\n",
    "model_c.add(Conv2D(32, kernel_size=(3, 3),\n",
    "                 activation='relu',\n",
    "                 input_shape=input_shape))\n",
    "model_c.add(Conv2D(64, (3, 3), activation='relu'))\n",
    "model_c.add(MaxPooling2D(pool_size=(2, 2)))\n",
    "model_c.add(Dropout(0.25))\n",
    "model_c.add(Flatten())\n",
    "model_c.add(Dense(128, activation='relu'))\n",
    "model_c.add(Dropout(0.5))\n",
    "model_c.add(Dense(num_classes, activation='softmax'))\n",
    "\n",
    "model_c.compile(loss='categorical_crossentropy',\n",
    "              # The model_c is optimized with the Adadelta optimizer\n",
    "              optimizer='Adadelta',\n",
    "              # Adding accuracy metrics \n",
    "              metrics=['accuracy'])\n",
    "\n",
    "model_c.fit(x_train, y_train,\n",
    "          batch_size=batch_size,\n",
    "          epochs=epochs,\n",
    "          verbose=1,\n",
    "          validation_data=(x_test, y_test))"
   ]
  },
  {
   "cell_type": "code",
   "execution_count": 10,
   "metadata": {},
   "outputs": [
    {
     "name": "stdout",
     "output_type": "stream",
     "text": [
      "Test loss: 0.8697553841590882\n",
      "Test accuracy: 0.6938\n"
     ]
    }
   ],
   "source": [
    "score = model_c.evaluate(x_test, y_test, verbose=0)\n",
    "print('Test loss:', score[0])\n",
    "print('Test accuracy:', score[1])"
   ]
  },
  {
   "cell_type": "code",
   "execution_count": 11,
   "metadata": {
    "scrolled": true
   },
   "outputs": [
    {
     "name": "stdout",
     "output_type": "stream",
     "text": [
      "(50000, 32, 32, 3)\n",
      "(10000, 32, 32, 3)\n",
      "50000 train samples\n",
      "10000 test samples\n",
      "_________________________________________________________________\n",
      "Layer (type)                 Output Shape              Param #   \n",
      "=================================================================\n",
      "dense_7 (Dense)              (None, 512)               1573376   \n",
      "_________________________________________________________________\n",
      "dropout_5 (Dropout)          (None, 512)               0         \n",
      "_________________________________________________________________\n",
      "dense_8 (Dense)              (None, 512)               262656    \n",
      "_________________________________________________________________\n",
      "dropout_6 (Dropout)          (None, 512)               0         \n",
      "_________________________________________________________________\n",
      "dense_9 (Dense)              (None, 10)                5130      \n",
      "=================================================================\n",
      "Total params: 1,841,162\n",
      "Trainable params: 1,841,162\n",
      "Non-trainable params: 0\n",
      "_________________________________________________________________\n",
      "Train on 50000 samples, validate on 10000 samples\n",
      "Epoch 1/20\n",
      "50000/50000 [==============================] - 16s 314us/step - loss: 2.2459 - acc: 0.2502 - val_loss: 1.8157 - val_acc: 0.3430\n",
      "Epoch 2/20\n",
      "50000/50000 [==============================] - 15s 305us/step - loss: 1.8443 - acc: 0.3337 - val_loss: 1.7353 - val_acc: 0.3742\n",
      "Epoch 3/20\n",
      "50000/50000 [==============================] - 15s 308us/step - loss: 1.7704 - acc: 0.3640 - val_loss: 1.6825 - val_acc: 0.3861\n",
      "Epoch 4/20\n",
      "50000/50000 [==============================] - 15s 302us/step - loss: 1.7204 - acc: 0.3838 - val_loss: 1.6710 - val_acc: 0.4001\n",
      "Epoch 5/20\n",
      "50000/50000 [==============================] - 15s 302us/step - loss: 1.6860 - acc: 0.3992 - val_loss: 1.5995 - val_acc: 0.4414\n",
      "Epoch 6/20\n",
      "50000/50000 [==============================] - 15s 303us/step - loss: 1.6592 - acc: 0.4055 - val_loss: 1.5816 - val_acc: 0.4481\n",
      "Epoch 7/20\n",
      "50000/50000 [==============================] - 15s 310us/step - loss: 1.6383 - acc: 0.4138 - val_loss: 1.5795 - val_acc: 0.4377\n",
      "Epoch 8/20\n",
      "50000/50000 [==============================] - 15s 301us/step - loss: 1.6154 - acc: 0.4217 - val_loss: 1.5689 - val_acc: 0.4477\n",
      "Epoch 9/20\n",
      "50000/50000 [==============================] - 15s 302us/step - loss: 1.6067 - acc: 0.4259 - val_loss: 1.5896 - val_acc: 0.4390\n",
      "Epoch 10/20\n",
      "50000/50000 [==============================] - 15s 306us/step - loss: 1.5848 - acc: 0.4360 - val_loss: 1.5381 - val_acc: 0.4645\n",
      "Epoch 11/20\n",
      "50000/50000 [==============================] - 15s 303us/step - loss: 1.5737 - acc: 0.4385 - val_loss: 1.5150 - val_acc: 0.4738\n",
      "Epoch 12/20\n",
      "50000/50000 [==============================] - 15s 304us/step - loss: 1.5627 - acc: 0.4403 - val_loss: 1.5992 - val_acc: 0.4424\n",
      "Epoch 13/20\n",
      "50000/50000 [==============================] - 15s 303us/step - loss: 1.5531 - acc: 0.4474 - val_loss: 1.5454 - val_acc: 0.4585\n",
      "Epoch 14/20\n",
      "50000/50000 [==============================] - 15s 306us/step - loss: 1.5450 - acc: 0.4486 - val_loss: 1.5261 - val_acc: 0.4560\n",
      "Epoch 15/20\n",
      "50000/50000 [==============================] - 15s 302us/step - loss: 1.5350 - acc: 0.4523 - val_loss: 1.5123 - val_acc: 0.4722\n",
      "Epoch 16/20\n",
      "50000/50000 [==============================] - 16s 313us/step - loss: 1.5206 - acc: 0.4585 - val_loss: 1.5202 - val_acc: 0.4661\n",
      "Epoch 17/20\n",
      "50000/50000 [==============================] - 15s 305us/step - loss: 1.5213 - acc: 0.4590 - val_loss: 1.4821 - val_acc: 0.4608\n",
      "Epoch 18/20\n",
      "50000/50000 [==============================] - 15s 306us/step - loss: 1.5179 - acc: 0.4585 - val_loss: 1.5000 - val_acc: 0.4682\n",
      "Epoch 19/20\n",
      "50000/50000 [==============================] - 15s 305us/step - loss: 1.5065 - acc: 0.4634 - val_loss: 1.4691 - val_acc: 0.4837\n",
      "Epoch 20/20\n",
      "50000/50000 [==============================] - 15s 308us/step - loss: 1.4972 - acc: 0.4663 - val_loss: 1.4671 - val_acc: 0.4789\n"
     ]
    }
   ],
   "source": [
    "'''Trains a simple deep NN (MLP: Multi-Layer Perceptron) \n",
    "   on the CIFAR10 dataset.\n",
    "'''\n",
    "from __future__ import print_function\n",
    "\n",
    "import keras\n",
    "from keras.datasets import mnist\n",
    "from keras.models import Sequential\n",
    "from keras import layers\n",
    "from keras.layers import Dense, Dropout\n",
    "from keras.optimizers import RMSprop\n",
    "\n",
    "batch_size = 128\n",
    "num_classes = 10\n",
    "epochs = 20\n",
    "# epochs = 12\n",
    "\n",
    "# the data, split between train and test sets\n",
    "# (x_train, y_train), (x_test, y_test) = mnist.load_data()\n",
    "(x_train, y_train), (x_test, y_test) = cifar10.load_data()\n",
    "\n",
    "print(x_train.shape)\n",
    "print(x_test.shape)\n",
    "\n",
    "# x_train = x_train.reshape(60000, 784)\n",
    "x_train = x_train.reshape(50000, 3072)\n",
    "# x_test = x_test.reshape(10000, 784)\n",
    "x_test = x_test.reshape(10000, 3072)\n",
    "x_train = x_train.astype('float32')\n",
    "x_test = x_test.astype('float32')\n",
    "x_train /= 255\n",
    "x_test /= 255\n",
    "print(x_train.shape[0], 'train samples')\n",
    "print(x_test.shape[0], 'test samples')\n",
    "\n",
    "# convert class vectors to binary class matrices\n",
    "y_train = keras.utils.to_categorical(y_train, num_classes)\n",
    "y_test = keras.utils.to_categorical(y_test, num_classes)\n",
    "\n",
    "model_d = Sequential()\n",
    "# model_d.add(Dense(512, activation='relu', input_shape=(784,)))\n",
    "model_d.add(Dense(512, activation='relu', input_shape=(3072,)))\n",
    "model_d.add(Dropout(0.2))\n",
    "model_d.add(Dense(512, activation='relu'))\n",
    "model_d.add(Dropout(0.2))\n",
    "model_d.add(Dense(num_classes, activation='softmax'))\n",
    "\n",
    "model_d.summary()\n",
    "\n",
    "model_d.compile(loss='categorical_crossentropy',\n",
    "              optimizer=RMSprop(),\n",
    "              metrics=['accuracy'])\n",
    "\n",
    "history = model_d.fit(x_train, y_train,\n",
    "                    batch_size=batch_size,\n",
    "                    epochs=epochs,\n",
    "                    verbose=1,\n",
    "                    validation_data=(x_test, y_test))"
   ]
  },
  {
   "cell_type": "code",
   "execution_count": 12,
   "metadata": {},
   "outputs": [
    {
     "name": "stdout",
     "output_type": "stream",
     "text": [
      "Test loss: 1.4670582654953004\n",
      "Test accuracy: 0.4789\n"
     ]
    }
   ],
   "source": [
    "score = model_d.evaluate(x_test, y_test, verbose=0)\n",
    "print('Test loss:', score[0])\n",
    "print('Test accuracy:', score[1])"
   ]
  },
  {
   "cell_type": "markdown",
   "metadata": {},
   "source": [
    "### 7.3.2. Hyperparameter optimization \n",
    "\n",
    "When building a deep-learning model, you have to make many seemingly arbitrary decisions: How many layers should you stack? How many units or filters should go in each layer? Should you use `relu` as activation, or a different function? Should you use `BatchNormalization` after a given layer? How much dropout should you use? And so on. These architecture-level parameters are called <i>hyperparameters</i> to distinguish them from the parameters of a model, which are trained via backpropagation. \n",
    "\n",
    "In practice, experienced machine-learning engineers and researchers build intuition over time as to what works and what doesn’t when it comes to these choices—they develop hyperparameter-tuning skills. But there are no formal rules. If you want to get to the very limit of what can be achieved on a given task, you can’t be content with arbitrary choices made by a fallible human. Your initial decisions are almost always suboptimal, even if you have good intuition. You can refine your choices by tweaking them by hand and retraining the model repeatedly—that’s what machine-learning engineers and researchers spend most of their time doing. But it shouldn’t be your job as a human to fiddle with hyperparameters all day—that is better left to a machine. \n",
    "\n",
    "Thus you need to explore the space of possible decisions automatically, systematically, in a principled way. You need to search the architecture space and find the best-performing ones empirically. That’s what the field of automatic hyperparameter optimization is about: it’s an entire field of research, and an important one.\n",
    "\n",
    "The process of optimizing hyperparameters typically looks like this: \n",
    "\n",
    "* Choose a set of hyperparameters (automatically).\n",
    "* Build the corresponding model.\n",
    "* Fit it to your training data, and measure the final performance on the validation data. \n",
    "* Choose the next set of hyperparameters to try (automatically). \n",
    "* Repeat. \n",
    "* Eventually, measure performance on your test data. \n",
    "\n",
    "The key to this process is the algorithm that uses this history of validation performance, given various sets of hyperparameters, to choose the next set of hyperparameters to evaluate. Many different techniques are possible: Bayesian optimization (https://en.wikipedia.org/wiki/Bayesian_optimization), genetic algorithms (https://en.wikipedia.org/wiki/Genetic_algorithm), simple random search (https://en.wikipedia.org/wiki/Random_search), and so on.\n",
    "\n",
    "The key to this process is the algorithm that uses this history of validation performance, given various sets of hyperparameters, to choose the next set of hyperparameters to evaluate. Many different techniques are possible: Bayesian optimization, genetic algorithms, simple random search, and so on. \n",
    "\n",
    "Training the weights of a model is relatively easy: you compute a loss function on a mini-batch of data and then use the Backpropagation algorithm to move the weights in the right direction. Updating hyperparameters, on the other hand, is extremely challenging. Consider the following: \n",
    "\n",
    "* Computing the feedback signal (does this set of hyperparameters lead to a high-performing model on this task?) can be extremely expensive: it requires creating and training a new model from scratch on your dataset. \n",
    "* The hyperparameter space is typically made of discrete decisions and thus isn’t continuous or differentiable. Hence, you typically can’t do gradient descent in hyperparameter space. Instead, you must rely on gradient-free optimization techniques, which naturally are far less efficient than gradient descent.\n",
    "\n",
    "Because these challenges are difficult and the field is still young, we currently only have access to very limited tools to optimize models. Often, it turns out that random search (choosing hyperparameters to evaluate at random, repeatedly) is the best solution, despite being the most naive one. But one tool I have found reliably better than random search is Hyperopt (https://github.com/hyperopt/hyperopt), a Python library for hyperparameter optimization that internally uses trees of Parzen estimators to predict sets of hyperparameters that are likely to work well. Another library called Hyperas (https://github.com/maxpumperla/hyperas) integrates Hyperopt for use with Keras models. Do check it out.\n",
    "\n",
    "** Note ** \n",
    "> One important issue to keep in mind when doing automatic hyperparameter optimization at scale is validation-set overfitting. Because you’re updating hyperparameters based on a signal that is computed using your validation data, you’re effectively training them on the validation data, and thus they will quickly overfit to the validation data. Always keep this in mind.\n",
    "\n",
    "Overall, hyperparameter optimization is a powerful technique that is an absolute requirement to get to state-of-the-art models on any task or to win machine-learning competitions. Think about it: once upon a time, people handcrafted the features that went into shallow machine-learning models. That was very much suboptimal. Now, deep learning automates the task of hierarchical feature engineering—features are learned using a feedback signal, not hand-tuned, and that’s the way it should be. In the same way, you shouldn’t handcraft your model architectures; you should optimize them in a principled way. At the time of writing, the field of automatic hyperparameter optimization is very young and immature, as deep learning was some years ago, but I expect it to boom in the next few years."
   ]
  },
  {
   "cell_type": "markdown",
   "metadata": {},
   "source": [
    "### 7.3.3. Model ensembling \n",
    "Another powerful technique for obtaining the best possible results on a task is model ensembling. Ensembling consists of pooling together the predictions of a set of different models, to produce better predictions. If you look at machine-learning competitions, in particular on Kaggle, you’ll see that the winners use very large ensembles of models that inevitably beat any single model, no matter how good. \n",
    "\n",
    "Ensembling relies on the assumption that different good models trained independently are likely to be good for different reasons: each model looks at slightly different aspects of the data to make its predictions, getting part of the “truth” but not all of it. You may be familiar with the ancient parable of the blind men and the elephant: a group of blind men come across an elephant for the first time and try to understand what the elephant is by touching it. Each man touches a different part of the elephant’s body—just one part, such as the trunk or a leg. Then the men describe to each other what an elephant is: “It’s like a snake,” “Like a pillar or a tree,” and so on. The blind men are essentially machine-learning models trying to understand the manifold of the training data, each from its own perspective, using its own assumptions (provided by the unique architecture of the model and the unique random weight initialization). Each of them gets part of the truth of the data, but not the whole truth. By pooling their perspectives together, you can get a far more accurate description of the data. The elephant is a combination of parts: not any single blind man gets it quite right, but, interviewed together, they can tell a fairly accurate story. \n",
    "\n",
    "Let’s use classification as an example. The easiest way to pool the predictions of a set of classifiers (to ensemble the classifiers) is to average their predictions at inference time:"
   ]
  },
  {
   "cell_type": "code",
   "execution_count": 13,
   "metadata": {},
   "outputs": [
    {
     "data": {
      "text/plain": [
       "(10000, 3072)"
      ]
     },
     "execution_count": 13,
     "metadata": {},
     "output_type": "execute_result"
    }
   ],
   "source": [
    "x_test.shape"
   ]
  },
  {
   "cell_type": "code",
   "execution_count": 14,
   "metadata": {},
   "outputs": [
    {
     "data": {
      "text/plain": [
       "0.7087"
      ]
     },
     "execution_count": 14,
     "metadata": {},
     "output_type": "execute_result"
    }
   ],
   "source": [
    "x_val = x_test.reshape(10000, 32, 32, 3)\n",
    "# Use four different models to compute initial predictions.\n",
    "preds_a = model_a.predict(x_val)\n",
    "preds_b = model_b.predict(x_val)\n",
    "preds_c = model_c.predict(x_val)\n",
    "preds_d = model_d.predict(x_test)\n",
    "\n",
    "# This new prediction array should be more accurate than any of the initial ones.\n",
    "final_preds = 0.25 * (preds_a + preds_b + preds_c + preds_d)\n",
    "\n",
    "import numpy as np\n",
    "final_preds_one_hot = np.zeros_like(final_preds)\n",
    "final_preds_one_hot[np.arange(len(final_preds)), final_preds.argmax(1)] = 1\n",
    "\n",
    "from sklearn.metrics import accuracy_score\n",
    "accuracy_score(y_test, final_preds_one_hot)"
   ]
  },
  {
   "cell_type": "markdown",
   "metadata": {},
   "source": [
    "This will work only if the classifiers are more or less equally good. If one of them is significantly worse than the others, the final predictions may not be as good as the best classifier of the group. A smarter way to ensemble classifiers is to do a weighted average, where the weights are learned on the validation data—typically, the better classifiers are given a higher weight, and the worse classifiers are given a lower weight. To search for a good set of ensembling weights, you can use random search or a simple optimization algorithm such as Nelder-Mead.\n",
    "\n",
    "With a homemade one_hot_encoder and accuracy_score from Scikit Learn:"
   ]
  },
  {
   "cell_type": "code",
   "execution_count": 15,
   "metadata": {},
   "outputs": [
    {
     "data": {
      "text/plain": [
       "0.7107"
      ]
     },
     "execution_count": 15,
     "metadata": {},
     "output_type": "execute_result"
    }
   ],
   "source": [
    "import numpy as np\n",
    "# These weights (0.2, 0.40, 0.35, 0.05) are assumed to be learned empirically.\n",
    "final_preds = 0.2 * preds_a + 0.40 * preds_b + 0.35 * preds_c + 0.05 * preds_d \n",
    "final_preds_one_hot = np.zeros_like(final_preds)\n",
    "final_preds_one_hot[np.arange(len(final_preds)), final_preds.argmax(1)] = 1\n",
    "\n",
    "from sklearn.metrics import accuracy_score\n",
    "accuracy_score(y_test, final_preds_one_hot)"
   ]
  },
  {
   "cell_type": "markdown",
   "metadata": {},
   "source": [
    "With a Keras one_hot encoder and accuracy_score from Scikit Learn:"
   ]
  },
  {
   "cell_type": "code",
   "execution_count": 16,
   "metadata": {},
   "outputs": [
    {
     "data": {
      "text/plain": [
       "0.7107"
      ]
     },
     "execution_count": 16,
     "metadata": {},
     "output_type": "execute_result"
    }
   ],
   "source": [
    "from keras import backend as K\n",
    "final_preds_one_hot = K.one_hot(K.argmax(final_preds,axis=1),10)\n",
    "\n",
    "from sklearn.metrics import accuracy_score\n",
    "accuracy_score(y_test,tf.Session().run(final_preds_one_hot))"
   ]
  },
  {
   "cell_type": "markdown",
   "metadata": {},
   "source": [
    "There are many possible variants: you can do an average of an exponential of the predictions, for instance. In general, a simple weighted average with weights optimized on the validation data provides a very strong baseline. \n",
    "\n",
    "The key to making ensembling work is the <i>diversity</i> of the set of classifiers. Diversity is strength. If your models are <i>biased in different ways</i>, the biases will cancel each other out, and the ensemble will be more robust and more accurate. \n",
    "\n",
    "For this reason, you should ensemble models that are <i>as good as possible</i> while being as different as possible. This typically means using very different architectures or even different brands of machine-learning approaches. One thing that is largely not worth doing is ensembling the same network trained several times independently, from different random initializations. If the only difference between your models is their random initialization and the order in which they were exposed to the training data, then your ensemble will be low-diversity and will provide only a tiny improvement over any single model. The point of ensembling. It’s not so much about how good your best model is; it’s about the diversity of your set of candidate models. \n",
    "\n",
    "In recent times, one style of basic ensemble that has been very successful in practice is the wide and deep category of models, blending deep learning with shallow learning. Such models consist of jointly training a deep neural network with a large linear model. The joint training of a family of diverse models is yet another option to achieve model ensembling. "
   ]
  },
  {
   "cell_type": "code",
   "execution_count": null,
   "metadata": {
    "collapsed": true
   },
   "outputs": [],
   "source": []
  }
 ],
 "metadata": {
  "kernelspec": {
   "display_name": "Python 3",
   "language": "python",
   "name": "python3"
  },
  "language_info": {
   "codemirror_mode": {
    "name": "ipython",
    "version": 3
   },
   "file_extension": ".py",
   "mimetype": "text/x-python",
   "name": "python",
   "nbconvert_exporter": "python",
   "pygments_lexer": "ipython3",
   "version": "3.7.4"
  }
 },
 "nbformat": 4,
 "nbformat_minor": 2
}
