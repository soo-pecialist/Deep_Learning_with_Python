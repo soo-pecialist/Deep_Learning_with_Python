{
 "cells": [
  {
   "cell_type": "code",
   "execution_count": 1,
   "metadata": {},
   "outputs": [
    {
     "data": {
      "text/plain": [
       "'2.2.4-tf'"
      ]
     },
     "execution_count": 1,
     "metadata": {},
     "output_type": "execute_result"
    }
   ],
   "source": [
    "from tensorflow import keras\n",
    "keras.__version__"
   ]
  },
  {
   "cell_type": "markdown",
   "metadata": {},
   "source": [
    "# Overfitting and underfitting\n",
    "\n",
    "This notebook contains the code samples found in Chapter 3, Section 6 of [Deep Learning with Python](https://www.manning.com/books/deep-learning-with-python?a_aid=keras&a_bid=76564dff). Note that the original text features far more content, in particular further explanations and figures: in this notebook, you will only find source code and related comments.\n",
    "\n",
    "----\n",
    "\n",
    "\n",
    "In all the examples we saw in the previous chapter -- movie review sentiment prediction, topic classification, and house price regression -- \n",
    "we could notice that the performance of our model on the held-out validation data would always peak after a few epochs and would then start \n",
    "degrading, i.e. our model would quickly start to _overfit_ to the training data. Overfitting happens in every single machine learning \n",
    "problem. Learning how to deal with overfitting is essential to mastering machine learning.\n",
    "\n",
    "The fundamental issue in machine learning is the tension between optimization and generalization. \"Optimization\" refers to the process of \n",
    "adjusting a model to get the best performance possible on the training data (the \"learning\" in \"machine learning\"), while \"generalization\" \n",
    "refers to how well the trained model would perform on data it has never seen before. The goal of the game is to get good generalization, of \n",
    "course, but you do not control generalization; you can only adjust the model based on its training data.\n",
    "\n",
    "At the beginning of training, optimization and generalization are correlated: the lower your loss on training data, the lower your loss on \n",
    "test data. While this is happening, your model is said to be _under-fit_: there is still progress to be made; the network hasn't yet \n",
    "modeled all relevant patterns in the training data. But after a certain number of iterations on the training data, generalization stops \n",
    "improving, validation metrics stall then start degrading: the model is then starting to over-fit, i.e. is it starting to learn patterns \n",
    "that are specific to the training data but that are misleading or irrelevant when it comes to new data.\n",
    "\n",
    "To prevent a model from learning misleading or irrelevant patterns found in the training data, _the best solution is of course to get \n",
    "more training data_. A model trained on more data will naturally generalize better. When that is no longer possible, the next best solution \n",
    "is to modulate the quantity of information that your model is allowed to store, or to add constraints on what information it is allowed to \n",
    "store. If a network can only afford to memorize a small number of patterns, the optimization process will force it to focus on the most \n",
    "prominent patterns, which have a better chance of generalizing well.\n",
    "\n",
    "The processing of fighting overfitting in this way is called _regularization_. Let's review some of the most common regularization \n",
    "techniques, and let's apply them in practice to improve our movie classification model from  the previous chapter."
   ]
  },
  {
   "cell_type": "markdown",
   "metadata": {},
   "source": [
    "Note: in this notebook we will be using the IMDB test set as our validation set. It doesn't matter in this context.\n",
    "\n",
    "Let's prepare the data using the code from Chapter 3, Section 5:"
   ]
  },
  {
   "cell_type": "code",
   "execution_count": 2,
   "metadata": {},
   "outputs": [],
   "source": [
    "from tensorflow.keras.datasets import imdb\n",
    "import numpy as np\n",
    "\n",
    "(train_data, train_labels), (test_data, test_labels) = imdb.load_data(num_words=10000)\n",
    "\n",
    "def vectorize_sequences(sequences, dimension=10000):\n",
    "    # Create an all-zero matrix of shape (len(sequences), dimension)\n",
    "    results = np.zeros((len(sequences), dimension))\n",
    "    for i, sequence in enumerate(sequences):\n",
    "        results[i, sequence] = 1.  # set specific indices of results[i] to 1s\n",
    "    return results\n",
    "\n",
    "# Our vectorized training data\n",
    "x_train = vectorize_sequences(train_data)\n",
    "# Our vectorized test data\n",
    "x_test = vectorize_sequences(test_data)\n",
    "# Our vectorized labels\n",
    "y_train = np.asarray(train_labels).astype('float32')\n",
    "y_test = np.asarray(test_labels).astype('float32')"
   ]
  },
  {
   "cell_type": "markdown",
   "metadata": {},
   "source": [
    "# Fighting overfitting\n",
    "\n",
    "## Reducing the network's size\n",
    "\n",
    "\n",
    "The simplest way to prevent overfitting is to reduce the size of the model, i.e. the number of learnable parameters in the model (which is \n",
    "determined by the number of layers and the number of units per layer). In deep learning, the number of learnable parameters in a model is \n",
    "often referred to as the model's \"capacity\". Intuitively, a model with more parameters will have more \"memorization capacity\" and therefore \n",
    "will be able to easily learn a perfect dictionary-like mapping between training samples and their targets, a mapping without any \n",
    "generalization power. For instance, a model with 500,000 binary parameters could easily be made to learn the class of every digits in the \n",
    "MNIST training set: we would only need 10 binary parameters for each of the 50,000 digits. Such a model would be useless for classifying \n",
    "new digit samples. Always keep this in mind: deep learning models tend to be good at fitting to the training data, but the real challenge \n",
    "is generalization, not fitting.\n",
    "\n",
    "On the other hand, if the network has limited memorization resources, it will not be able to learn this mapping as easily, and thus, in \n",
    "order to minimize its loss, it will have to resort to learning compressed representations that have predictive power regarding the targets \n",
    "-- precisely the type of representations that we are interested in. At the same time, keep in mind that you should be using models that have \n",
    "enough parameters that they won't be underfitting: your model shouldn't be starved for memorization resources. There is a compromise to be \n",
    "found between \"too much capacity\" and \"not enough capacity\".\n",
    "\n",
    "Unfortunately, there is no magical formula to determine what the right number of layers is, or what the right size for each layer is. You \n",
    "will have to evaluate an array of different architectures (on your validation set, not on your test set, of course) in order to find the \n",
    "right model size for your data. The general workflow to find an appropriate model size is to start with relatively few layers and \n",
    "parameters, and start increasing the size of the layers or adding new layers until you see diminishing returns with regard to the \n",
    "validation loss.\n",
    "\n",
    "Let's try this on our movie review classification network. Our original network was as such:"
   ]
  },
  {
   "cell_type": "code",
   "execution_count": 3,
   "metadata": {},
   "outputs": [],
   "source": [
    "from tensorflow.keras import models, layers\n",
    "\n",
    "original_model = models.Sequential([\n",
    "    layers.Dense(16, activation='selu', \n",
    "                     kernel_initializer=\"lecun_normal\",\n",
    "                     input_shape=(10000,)),\n",
    "    layers.Dense(16, activation='selu',\n",
    "                     kernel_initializer=\"lecun_normal\"),\n",
    "    layers.Dense(1, activation='sigmoid')\n",
    "])\n",
    "\n",
    "original_model.compile(optimizer='nadam',\n",
    "                       loss='binary_crossentropy',\n",
    "                       metrics=['acc'])"
   ]
  },
  {
   "cell_type": "markdown",
   "metadata": {},
   "source": [
    "Now let's try to replace it with this smaller network:"
   ]
  },
  {
   "cell_type": "code",
   "execution_count": 4,
   "metadata": {},
   "outputs": [],
   "source": [
    "smaller_model = models.Sequential([\n",
    "    layers.Dense(4, activation='selu', \n",
    "                    kernel_initializer=\"lecun_normal\",\n",
    "                    input_shape=(10000,)),\n",
    "    layers.Dense(4, activation='selu',\n",
    "                    kernel_initializer=\"lecun_normal\"),\n",
    "    layers.Dense(1, activation='sigmoid')\n",
    "])\n",
    "\n",
    "smaller_model.compile(optimizer='nadam',\n",
    "                      loss='binary_crossentropy',\n",
    "                      metrics=['acc'])"
   ]
  },
  {
   "cell_type": "markdown",
   "metadata": {},
   "source": [
    "\n",
    "Here's a comparison of the validation losses of the original network and the smaller network. The dots are the validation loss values of \n",
    "the smaller network, and the crosses are the initial network (remember: a lower validation loss signals a better model)."
   ]
  },
  {
   "cell_type": "code",
   "execution_count": 5,
   "metadata": {},
   "outputs": [
    {
     "name": "stdout",
     "output_type": "stream",
     "text": [
      "Train on 25000 samples, validate on 25000 samples\n",
      "Epoch 1/20\n",
      "25000/25000 [==============================] - 3s 103us/sample - loss: 0.4134 - acc: 0.8260 - val_loss: 0.2964 - val_acc: 0.8813\n",
      "Epoch 2/20\n",
      "25000/25000 [==============================] - 2s 65us/sample - loss: 0.2115 - acc: 0.9222 - val_loss: 0.2926 - val_acc: 0.8801\n",
      "Epoch 3/20\n",
      "25000/25000 [==============================] - 2s 61us/sample - loss: 0.1617 - acc: 0.9422 - val_loss: 0.3138 - val_acc: 0.8767\n",
      "Epoch 4/20\n",
      "25000/25000 [==============================] - 2s 61us/sample - loss: 0.1245 - acc: 0.9580 - val_loss: 0.3555 - val_acc: 0.8707\n",
      "Epoch 5/20\n",
      "25000/25000 [==============================] - 2s 61us/sample - loss: 0.1100 - acc: 0.9632 - val_loss: 0.4393 - val_acc: 0.8548\n",
      "Epoch 6/20\n",
      "25000/25000 [==============================] - 2s 61us/sample - loss: 0.0893 - acc: 0.9698 - val_loss: 0.4378 - val_acc: 0.8629\n",
      "Epoch 7/20\n",
      "25000/25000 [==============================] - 2s 61us/sample - loss: 0.0651 - acc: 0.9821 - val_loss: 0.4960 - val_acc: 0.8579\n",
      "Epoch 8/20\n",
      "25000/25000 [==============================] - 2s 68us/sample - loss: 0.0512 - acc: 0.9866 - val_loss: 0.5579 - val_acc: 0.8541\n",
      "Epoch 9/20\n",
      "25000/25000 [==============================] - 2s 66us/sample - loss: 0.0405 - acc: 0.9901 - val_loss: 0.6173 - val_acc: 0.8516\n",
      "Epoch 10/20\n",
      "25000/25000 [==============================] - 2s 64us/sample - loss: 0.1254 - acc: 0.9683 - val_loss: 0.5142 - val_acc: 0.8571\n",
      "Epoch 11/20\n",
      "25000/25000 [==============================] - 2s 63us/sample - loss: 0.0553 - acc: 0.9809 - val_loss: 0.6273 - val_acc: 0.8518\n",
      "Epoch 12/20\n",
      "25000/25000 [==============================] - 2s 62us/sample - loss: 0.0259 - acc: 0.9942 - val_loss: 0.6951 - val_acc: 0.8497\n",
      "Epoch 13/20\n",
      "25000/25000 [==============================] - 2s 62us/sample - loss: 0.0164 - acc: 0.9978 - val_loss: 0.7443 - val_acc: 0.8479\n",
      "Epoch 14/20\n",
      "25000/25000 [==============================] - 2s 64us/sample - loss: 0.0115 - acc: 0.9992 - val_loss: 0.7874 - val_acc: 0.8478\n",
      "Epoch 15/20\n",
      "25000/25000 [==============================] - 2s 63us/sample - loss: 0.0085 - acc: 0.9996 - val_loss: 0.8260 - val_acc: 0.8475\n",
      "Epoch 16/20\n",
      "25000/25000 [==============================] - 2s 61us/sample - loss: 0.0064 - acc: 0.9998 - val_loss: 0.8631 - val_acc: 0.8462\n",
      "Epoch 17/20\n",
      "25000/25000 [==============================] - 2s 62us/sample - loss: 0.0051 - acc: 1.0000 - val_loss: 0.8972 - val_acc: 0.8457\n",
      "Epoch 18/20\n",
      "25000/25000 [==============================] - 2s 72us/sample - loss: 0.0041 - acc: 1.0000 - val_loss: 0.9277 - val_acc: 0.8457\n",
      "Epoch 19/20\n",
      "25000/25000 [==============================] - 2s 76us/sample - loss: 0.0034 - acc: 1.0000 - val_loss: 0.9560 - val_acc: 0.8455\n",
      "Epoch 20/20\n",
      "25000/25000 [==============================] - 2s 70us/sample - loss: 0.0029 - acc: 1.0000 - val_loss: 0.9816 - val_acc: 0.8452\n"
     ]
    }
   ],
   "source": [
    "original_hist = original_model.fit(x_train, y_train,\n",
    "                                   epochs=20,\n",
    "                                   batch_size=512,\n",
    "                                   validation_data=(x_test, y_test))"
   ]
  },
  {
   "cell_type": "code",
   "execution_count": 6,
   "metadata": {},
   "outputs": [
    {
     "name": "stdout",
     "output_type": "stream",
     "text": [
      "Train on 25000 samples, validate on 25000 samples\n",
      "Epoch 1/20\n",
      "25000/25000 [==============================] - 2s 92us/sample - loss: 0.5152 - acc: 0.8047 - val_loss: 0.4076 - val_acc: 0.8680\n",
      "Epoch 2/20\n",
      "25000/25000 [==============================] - 1s 56us/sample - loss: 0.3219 - acc: 0.9010 - val_loss: 0.3212 - val_acc: 0.8828\n",
      "Epoch 3/20\n",
      "25000/25000 [==============================] - 1s 56us/sample - loss: 0.2409 - acc: 0.9262 - val_loss: 0.2912 - val_acc: 0.8866\n",
      "Epoch 4/20\n",
      "25000/25000 [==============================] - 1s 56us/sample - loss: 0.1934 - acc: 0.9411 - val_loss: 0.2841 - val_acc: 0.8853\n",
      "Epoch 5/20\n",
      "25000/25000 [==============================] - 1s 56us/sample - loss: 0.1630 - acc: 0.9525 - val_loss: 0.2932 - val_acc: 0.8821\n",
      "Epoch 6/20\n",
      "25000/25000 [==============================] - 1s 56us/sample - loss: 0.1397 - acc: 0.9620 - val_loss: 0.2981 - val_acc: 0.8804\n",
      "Epoch 7/20\n",
      "25000/25000 [==============================] - 1s 56us/sample - loss: 0.1218 - acc: 0.9678 - val_loss: 0.3195 - val_acc: 0.8730\n",
      "Epoch 8/20\n",
      "25000/25000 [==============================] - 1s 56us/sample - loss: 0.1064 - acc: 0.9733 - val_loss: 0.3320 - val_acc: 0.8720\n",
      "Epoch 9/20\n",
      "25000/25000 [==============================] - 1s 56us/sample - loss: 0.0933 - acc: 0.9782 - val_loss: 0.3532 - val_acc: 0.8713\n",
      "Epoch 10/20\n",
      "25000/25000 [==============================] - 1s 55us/sample - loss: 0.0833 - acc: 0.9817 - val_loss: 0.3686 - val_acc: 0.8670\n",
      "Epoch 11/20\n",
      "25000/25000 [==============================] - 1s 56us/sample - loss: 0.0726 - acc: 0.9850 - val_loss: 0.3889 - val_acc: 0.8656\n",
      "Epoch 12/20\n",
      "25000/25000 [==============================] - 1s 56us/sample - loss: 0.0634 - acc: 0.9882 - val_loss: 0.4131 - val_acc: 0.8618\n",
      "Epoch 13/20\n",
      "25000/25000 [==============================] - 1s 56us/sample - loss: 0.0558 - acc: 0.9906 - val_loss: 0.4332 - val_acc: 0.8613\n",
      "Epoch 14/20\n",
      "25000/25000 [==============================] - 1s 56us/sample - loss: 0.0491 - acc: 0.9924 - val_loss: 0.4666 - val_acc: 0.8582\n",
      "Epoch 15/20\n",
      "25000/25000 [==============================] - 1s 56us/sample - loss: 0.0432 - acc: 0.9935 - val_loss: 0.4808 - val_acc: 0.8579\n",
      "Epoch 16/20\n",
      "25000/25000 [==============================] - 1s 56us/sample - loss: 0.0379 - acc: 0.9947 - val_loss: 0.5055 - val_acc: 0.8562\n",
      "Epoch 17/20\n",
      "25000/25000 [==============================] - 1s 56us/sample - loss: 0.0325 - acc: 0.9957 - val_loss: 0.5295 - val_acc: 0.8544\n",
      "Epoch 18/20\n",
      "25000/25000 [==============================] - 1s 56us/sample - loss: 0.0280 - acc: 0.9969 - val_loss: 0.5543 - val_acc: 0.8535\n",
      "Epoch 19/20\n",
      "25000/25000 [==============================] - 1s 56us/sample - loss: 0.0239 - acc: 0.9977 - val_loss: 0.5762 - val_acc: 0.8521\n",
      "Epoch 20/20\n",
      "25000/25000 [==============================] - 1s 55us/sample - loss: 0.0205 - acc: 0.9983 - val_loss: 0.5999 - val_acc: 0.8512\n"
     ]
    }
   ],
   "source": [
    "smaller_model_hist = smaller_model.fit(x_train, y_train,\n",
    "                                       epochs=20,\n",
    "                                       batch_size=512,\n",
    "                                       validation_data=(x_test, y_test))"
   ]
  },
  {
   "cell_type": "code",
   "execution_count": 7,
   "metadata": {},
   "outputs": [],
   "source": [
    "epochs = range(1, 21)\n",
    "original_val_loss = original_hist.history['val_loss']\n",
    "smaller_model_val_loss = smaller_model_hist.history['val_loss']"
   ]
  },
  {
   "cell_type": "code",
   "execution_count": 8,
   "metadata": {},
   "outputs": [
    {
     "data": {
      "image/png": "[encoded data removed]",
      "text/plain": [
       "<Figure size 432x288 with 1 Axes>"
      ]
     },
     "metadata": {
      "needs_background": "light"
     },
     "output_type": "display_data"
    }
   ],
   "source": [
    "%matplotlib inline\n",
    "import matplotlib.pyplot as plt\n",
    "\n",
    "# b+ is for \"blue cross\"\n",
    "plt.plot(epochs, original_val_loss, 'b+', label='Original model')\n",
    "# \"bo\" is for \"blue dot\"\n",
    "plt.plot(epochs, smaller_model_val_loss, 'bo', label='Smaller model')\n",
    "plt.gca().get_xaxis().set_ticks(np.arange(1, 21))\n",
    "plt.xlabel('Epochs')\n",
    "plt.ylabel('Validation loss')\n",
    "plt.legend()\n",
    "\n",
    "plt.show()"
   ]
  },
  {
   "cell_type": "markdown",
   "metadata": {},
   "source": [
    "\n",
    "As you can see, the smaller network starts overfitting later than the reference one (after 6 epochs rather than 4) and its performance \n",
    "degrades much more slowly once it starts overfitting.\n",
    "\n",
    "Now, for kicks, let's add to this benchmark a network that has much more capacity, far more than the problem would warrant:"
   ]
  },
  {
   "cell_type": "code",
   "execution_count": 9,
   "metadata": {},
   "outputs": [],
   "source": [
    "bigger_model = models.Sequential([\n",
    "    layers.Dense(512, activation='selu', \n",
    "                      kernel_initializer=\"lecun_normal\",\n",
    "                      input_shape=(10000,)),\n",
    "    layers.Dense(512, activation='selu',\n",
    "                      kernel_initializer=\"lecun_normal\"),\n",
    "    layers.Dense(1, activation='sigmoid')\n",
    "])\n",
    "\n",
    "bigger_model.compile(optimizer='nadam',\n",
    "                     loss='binary_crossentropy',\n",
    "                     metrics=['acc'])"
   ]
  },
  {
   "cell_type": "code",
   "execution_count": 10,
   "metadata": {},
   "outputs": [
    {
     "name": "stdout",
     "output_type": "stream",
     "text": [
      "Train on 25000 samples, validate on 25000 samples\n",
      "Epoch 1/20\n",
      "25000/25000 [==============================] - 7s 281us/sample - loss: 0.4160 - acc: 0.8238 - val_loss: 0.2936 - val_acc: 0.8797\n",
      "Epoch 2/20\n",
      "25000/25000 [==============================] - 7s 269us/sample - loss: 0.1922 - acc: 0.9257 - val_loss: 0.3195 - val_acc: 0.8662\n",
      "Epoch 3/20\n",
      "25000/25000 [==============================] - 6s 259us/sample - loss: 0.1437 - acc: 0.9463 - val_loss: 0.3600 - val_acc: 0.8654\n",
      "Epoch 4/20\n",
      "25000/25000 [==============================] - 7s 264us/sample - loss: 0.5208 - acc: 0.9020 - val_loss: 0.3863 - val_acc: 0.8719\n",
      "Epoch 5/20\n",
      "25000/25000 [==============================] - 7s 261us/sample - loss: 0.1034 - acc: 0.9620 - val_loss: 0.4473 - val_acc: 0.8626\n",
      "Epoch 6/20\n",
      "25000/25000 [==============================] - 6s 255us/sample - loss: 0.0598 - acc: 0.9807 - val_loss: 0.5973 - val_acc: 0.8573\n",
      "Epoch 7/20\n",
      "25000/25000 [==============================] - 6s 252us/sample - loss: 0.0398 - acc: 0.9888 - val_loss: 0.7310 - val_acc: 0.8537\n",
      "Epoch 8/20\n",
      "25000/25000 [==============================] - 6s 249us/sample - loss: 0.1411 - acc: 0.9709 - val_loss: 0.4100 - val_acc: 0.8622\n",
      "Epoch 9/20\n",
      "25000/25000 [==============================] - 6s 250us/sample - loss: 0.0816 - acc: 0.9697 - val_loss: 0.5756 - val_acc: 0.8546\n",
      "Epoch 10/20\n",
      "25000/25000 [==============================] - 6s 250us/sample - loss: 0.0330 - acc: 0.9903 - val_loss: 0.8043 - val_acc: 0.8519\n",
      "Epoch 11/20\n",
      "25000/25000 [==============================] - 6s 249us/sample - loss: 0.0141 - acc: 0.9972 - val_loss: 1.0015 - val_acc: 0.8482\n",
      "Epoch 12/20\n",
      "25000/25000 [==============================] - 6s 249us/sample - loss: 0.0060 - acc: 0.9992 - val_loss: 1.1315 - val_acc: 0.8482\n",
      "Epoch 13/20\n",
      "25000/25000 [==============================] - 6s 252us/sample - loss: 0.0028 - acc: 0.9999 - val_loss: 1.2331 - val_acc: 0.8487\n",
      "Epoch 14/20\n",
      "25000/25000 [==============================] - 6s 249us/sample - loss: 0.0016 - acc: 1.0000 - val_loss: 1.3054 - val_acc: 0.8481\n",
      "Epoch 15/20\n",
      "25000/25000 [==============================] - 6s 248us/sample - loss: 0.0011 - acc: 1.0000 - val_loss: 1.3615 - val_acc: 0.8482\n",
      "Epoch 16/20\n",
      "25000/25000 [==============================] - 6s 250us/sample - loss: 8.2940e-04 - acc: 1.0000 - val_loss: 1.4086 - val_acc: 0.8479\n",
      "Epoch 17/20\n",
      "25000/25000 [==============================] - 6s 249us/sample - loss: 6.5606e-04 - acc: 1.0000 - val_loss: 1.4491 - val_acc: 0.8477\n",
      "Epoch 18/20\n",
      "25000/25000 [==============================] - 6s 250us/sample - loss: 5.3805e-04 - acc: 1.0000 - val_loss: 1.4870 - val_acc: 0.8470\n",
      "Epoch 19/20\n",
      "25000/25000 [==============================] - 6s 250us/sample - loss: 4.4961e-04 - acc: 1.0000 - val_loss: 1.5184 - val_acc: 0.8476\n",
      "Epoch 20/20\n",
      "25000/25000 [==============================] - 6s 249us/sample - loss: 3.8290e-04 - acc: 1.0000 - val_loss: 1.5483 - val_acc: 0.8477\n"
     ]
    }
   ],
   "source": [
    "bigger_model_hist = bigger_model.fit(x_train, y_train,\n",
    "                                     epochs=20,\n",
    "                                     batch_size=512,\n",
    "                                     validation_data=(x_test, y_test))"
   ]
  },
  {
   "cell_type": "markdown",
   "metadata": {},
   "source": [
    "Here's how the bigger network fares compared to the reference one. The dots are the validation loss values of the bigger network, and the \n",
    "crosses are the initial network."
   ]
  },
  {
   "cell_type": "code",
   "execution_count": 11,
   "metadata": {},
   "outputs": [
    {
     "data": {
      "image/png": "[encoded data removed]",
      "text/plain": [
       "<Figure size 432x288 with 1 Axes>"
      ]
     },
     "metadata": {
      "needs_background": "light"
     },
     "output_type": "display_data"
    }
   ],
   "source": [
    "bigger_model_val_loss = bigger_model_hist.history['val_loss']\n",
    "\n",
    "plt.plot(epochs, original_val_loss, 'b+', label='Original model')\n",
    "plt.plot(epochs, bigger_model_val_loss, 'bo', label='Bigger model')\n",
    "plt.gca().get_xaxis().set_ticks(np.arange(1, 21))\n",
    "plt.xlabel('Epochs')\n",
    "plt.ylabel('Validation loss')\n",
    "plt.legend()\n",
    "\n",
    "plt.show()"
   ]
  },
  {
   "cell_type": "markdown",
   "metadata": {},
   "source": [
    "\n",
    "The bigger network starts overfitting almost right away, after just one epoch, and overfits much more severely. Its validation loss is also \n",
    "more noisy.\n",
    "\n",
    "Meanwhile, here are the training losses for our two networks:"
   ]
  },
  {
   "cell_type": "code",
   "execution_count": 12,
   "metadata": {},
   "outputs": [
    {
     "data": {
      "image/png": "[encoded data removed]",
      "text/plain": [
       "<Figure size 432x288 with 1 Axes>"
      ]
     },
     "metadata": {
      "needs_background": "light"
     },
     "output_type": "display_data"
    }
   ],
   "source": [
    "original_train_loss = original_hist.history['loss']\n",
    "bigger_model_train_loss = bigger_model_hist.history['loss']\n",
    "\n",
    "plt.plot(epochs, original_train_loss, 'b+', label='Original model')\n",
    "plt.plot(epochs, bigger_model_train_loss, 'bo', label='Bigger model')\n",
    "plt.gca().get_xaxis().set_ticks(np.arange(1, 21))\n",
    "plt.xlabel('Epochs')\n",
    "plt.ylabel('Training loss')\n",
    "plt.legend()\n",
    "\n",
    "plt.show()"
   ]
  },
  {
   "cell_type": "markdown",
   "metadata": {},
   "source": [
    "As you can see, the bigger network gets its training loss near zero very quickly. The more capacity the network has, the quicker it will be \n",
    "able to model the training data (resulting in a low training loss), but the more susceptible it is to overfitting (resulting in a large \n",
    "difference between the training and validation loss)."
   ]
  },
  {
   "cell_type": "markdown",
   "metadata": {},
   "source": [
    "## Adding weight regularization\n",
    "\n",
    "\n",
    "You may be familiar with _Occam's Razor_ principle: given two explanations for something, the explanation most likely to be correct is the \n",
    "\"simplest\" one, the one that makes the least amount of assumptions. This also applies to the models learned by neural networks: given some \n",
    "training data and a network architecture, there are multiple sets of weights values (multiple *models*) that could explain the data, and \n",
    "simpler models are less likely to overfit than complex ones.\n",
    "\n",
    "A \"simple model\" in this context is a model where the distribution of parameter values has less entropy (or a model with fewer \n",
    "parameters altogether, as we saw in the section above). Thus a common way to mitigate overfitting is to put constraints on the complexity \n",
    "of a network by forcing its weights to only take small values, which makes the distribution of weight values more \"regular\". This is called \n",
    "\"weight regularization\", and it is done by adding to the loss function of the network a _cost_ associated with having large weights. This \n",
    "cost comes in two flavors:\n",
    "\n",
    "* L1 regularization, where the cost added is proportional to the _absolute value of the weights coefficients_ (i.e. to what is called the \n",
    "\"L1 norm\" of the weights).\n",
    "* L2 regularization, where the cost added is proportional to the _square of the value of the weights coefficients_ (i.e. to what is called \n",
    "the \"L2 norm\" of the weights). L2 regularization is also called _weight decay_ in the context of neural networks. Don't let the different \n",
    "name confuse you: weight decay is mathematically the exact same as L2 regularization.\n",
    "\n",
    "In Keras, weight regularization is added by passing _weight regularizer instances_ to layers as keyword arguments. Let's add L2 weight \n",
    "regularization to our movie review classification network:"
   ]
  },
  {
   "cell_type": "code",
   "execution_count": 13,
   "metadata": {},
   "outputs": [],
   "source": [
    "from tensorflow.keras import regularizers\n",
    "\n",
    "l2_model = models.Sequential()\n",
    "l2_model.add(layers.Dense(16, kernel_regularizer=regularizers.l2(0.001),\n",
    "                          activation='elu',\n",
    "                          input_shape=(10000,)))\n",
    "l2_model.add(layers.Dense(16, kernel_regularizer=regularizers.l2(0.001),\n",
    "                          activation='elu'))\n",
    "l2_model.add(layers.Dense(1, activation='sigmoid'))"
   ]
  },
  {
   "cell_type": "code",
   "execution_count": 14,
   "metadata": {},
   "outputs": [],
   "source": [
    "l2_model.compile(optimizer='nadam',\n",
    "                 loss='binary_crossentropy',\n",
    "                 metrics=['acc'])"
   ]
  },
  {
   "cell_type": "markdown",
   "metadata": {},
   "source": [
    "`l2(0.001)` means that every coefficient in the weight matrix of the layer will add `0.001 * weight_coefficient_value` to the total loss of \n",
    "the network. Note that because this penalty is _only added at training time_, the loss for this network will be much higher at training \n",
    "than at test time.\n",
    "\n",
    "Here's the impact of our L2 regularization penalty:"
   ]
  },
  {
   "cell_type": "code",
   "execution_count": 15,
   "metadata": {},
   "outputs": [
    {
     "name": "stdout",
     "output_type": "stream",
     "text": [
      "Train on 25000 samples, validate on 25000 samples\n",
      "Epoch 1/20\n",
      "25000/25000 [==============================] - 3s 101us/sample - loss: 0.5224 - acc: 0.8150 - val_loss: 0.3842 - val_acc: 0.8747\n",
      "Epoch 2/20\n",
      "25000/25000 [==============================] - 2s 65us/sample - loss: 0.3135 - acc: 0.9042 - val_loss: 0.3462 - val_acc: 0.8834\n",
      "Epoch 3/20\n",
      "25000/25000 [==============================] - 2s 65us/sample - loss: 0.2631 - acc: 0.9264 - val_loss: 0.3601 - val_acc: 0.8766\n",
      "Epoch 4/20\n",
      "25000/25000 [==============================] - 2s 65us/sample - loss: 0.2437 - acc: 0.9336 - val_loss: 0.3583 - val_acc: 0.8816\n",
      "Epoch 5/20\n",
      "25000/25000 [==============================] - 2s 64us/sample - loss: 0.2327 - acc: 0.9386 - val_loss: 0.4038 - val_acc: 0.8687\n",
      "Epoch 6/20\n",
      "25000/25000 [==============================] - 2s 65us/sample - loss: 0.2204 - acc: 0.9446 - val_loss: 0.3970 - val_acc: 0.8730\n",
      "Epoch 7/20\n",
      "25000/25000 [==============================] - 2s 65us/sample - loss: 0.2147 - acc: 0.9488 - val_loss: 0.4176 - val_acc: 0.8690\n",
      "Epoch 8/20\n",
      "25000/25000 [==============================] - 2s 67us/sample - loss: 0.2055 - acc: 0.9517 - val_loss: 0.4369 - val_acc: 0.8655\n",
      "Epoch 9/20\n",
      "25000/25000 [==============================] - 2s 65us/sample - loss: 0.2086 - acc: 0.9494 - val_loss: 0.4304 - val_acc: 0.8693\n",
      "Epoch 10/20\n",
      "25000/25000 [==============================] - 2s 65us/sample - loss: 0.2025 - acc: 0.9536 - val_loss: 0.4471 - val_acc: 0.8662\n",
      "Epoch 11/20\n",
      "25000/25000 [==============================] - 2s 65us/sample - loss: 0.1885 - acc: 0.9590 - val_loss: 0.5087 - val_acc: 0.8516\n",
      "Epoch 12/20\n",
      "25000/25000 [==============================] - 2s 65us/sample - loss: 0.2097 - acc: 0.9484 - val_loss: 0.4664 - val_acc: 0.8642\n",
      "Epoch 13/20\n",
      "25000/25000 [==============================] - 2s 65us/sample - loss: 0.1826 - acc: 0.9610 - val_loss: 0.4681 - val_acc: 0.8646\n",
      "Epoch 14/20\n",
      "25000/25000 [==============================] - 2s 65us/sample - loss: 0.1763 - acc: 0.9643 - val_loss: 0.4990 - val_acc: 0.8568\n",
      "Epoch 15/20\n",
      "25000/25000 [==============================] - 2s 65us/sample - loss: 0.2082 - acc: 0.9502 - val_loss: 0.4857 - val_acc: 0.8629\n",
      "Epoch 16/20\n",
      "25000/25000 [==============================] - 2s 65us/sample - loss: 0.1805 - acc: 0.9615 - val_loss: 0.4956 - val_acc: 0.8602\n",
      "Epoch 17/20\n",
      "25000/25000 [==============================] - 2s 65us/sample - loss: 0.1624 - acc: 0.9705 - val_loss: 0.5053 - val_acc: 0.8593\n",
      "Epoch 18/20\n",
      "25000/25000 [==============================] - 2s 65us/sample - loss: 0.1761 - acc: 0.9623 - val_loss: 0.5797 - val_acc: 0.8480\n",
      "Epoch 19/20\n",
      "25000/25000 [==============================] - 2s 65us/sample - loss: 0.1719 - acc: 0.9628 - val_loss: 0.5305 - val_acc: 0.8556\n",
      "Epoch 20/20\n",
      "25000/25000 [==============================] - 2s 65us/sample - loss: 0.1539 - acc: 0.9730 - val_loss: 0.5321 - val_acc: 0.8572\n"
     ]
    }
   ],
   "source": [
    "l2_model_hist = l2_model.fit(x_train, y_train,\n",
    "                             epochs=20,\n",
    "                             batch_size=512,\n",
    "                             validation_data=(x_test, y_test))"
   ]
  },
  {
   "cell_type": "code",
   "execution_count": 16,
   "metadata": {},
   "outputs": [
    {
     "data": {
      "image/png": "[encoded data removed]",
      "text/plain": [
       "<Figure size 432x288 with 1 Axes>"
      ]
     },
     "metadata": {
      "needs_background": "light"
     },
     "output_type": "display_data"
    }
   ],
   "source": [
    "l2_model_val_loss = l2_model_hist.history['val_loss']\n",
    "\n",
    "plt.plot(epochs, original_val_loss, 'b+', label='Original model')\n",
    "plt.plot(epochs, l2_model_val_loss, 'bo', label='L2-regularized model')\n",
    "plt.gca().get_xaxis().set_ticks(np.arange(1, 21))\n",
    "plt.xlabel('Epochs')\n",
    "plt.ylabel('Validation loss')\n",
    "plt.legend()\n",
    "\n",
    "plt.show()"
   ]
  },
  {
   "cell_type": "markdown",
   "metadata": {},
   "source": [
    "\n",
    "\n",
    "As you can see, the model with L2 regularization (dots) has become much more resistant to overfitting than the reference model (crosses), \n",
    "even though both models have the same number of parameters.\n",
    "\n",
    "As alternatives to L2 regularization, you could use one of the following Keras weight regularizers:"
   ]
  },
  {
   "cell_type": "code",
   "execution_count": 17,
   "metadata": {},
   "outputs": [
    {
     "data": {
      "text/plain": [
       "<tensorflow.python.keras.regularizers.L1L2 at 0x28b7a0150>"
      ]
     },
     "execution_count": 17,
     "metadata": {},
     "output_type": "execute_result"
    }
   ],
   "source": [
    "from tensorflow.keras import regularizers\n",
    "\n",
    "# L1 regularization\n",
    "regularizers.l1(0.001)\n",
    "\n",
    "# L1 and L2 regularization at the same time\n",
    "regularizers.l1_l2(l1=0.001, l2=0.001)"
   ]
  },
  {
   "cell_type": "markdown",
   "metadata": {},
   "source": [
    "## Adding dropout\n",
    "\n",
    "\n",
    "Dropout is one of the most effective and most commonly used regularization techniques for neural networks, developed by Hinton and his \n",
    "students at the University of Toronto. Dropout, applied to a layer, consists of randomly \"dropping out\" (i.e. setting to zero) a number of \n",
    "output features of the layer during training. Let's say a given layer would normally have returned a vector `[0.2, 0.5, 1.3, 0.8, 1.1]` for a \n",
    "given input sample during training; after applying dropout, this vector will have a few zero entries distributed at random, e.g. `[0, 0.5, \n",
    "1.3, 0, 1.1]`. The \"dropout rate\" is the fraction of the features that are being zeroed-out; it is usually set between 0.2 and 0.5. At test \n",
    "time, no units are dropped out, and instead the layer's output values are scaled down by a factor equal to the dropout rate, so as to \n",
    "balance for the fact that more units are active than at training time.\n",
    "\n",
    "Consider a Numpy matrix containing the output of a layer, `layer_output`, of shape `(batch_size, features)`. At training time, we would be \n",
    "zero-ing out at random a fraction of the values in the matrix:"
   ]
  },
  {
   "cell_type": "markdown",
   "metadata": {
    "collapsed": true
   },
   "source": [
    "```python\n",
    "# At training time: we drop out 50% of the units in the output\n",
    "layer_output *= np.random.randint(0, high=2, size=layer_output.shape)\n",
    "layer_output\n",
    "```"
   ]
  },
  {
   "cell_type": "markdown",
   "metadata": {},
   "source": [
    "\n",
    "At test time, we would be scaling the output down by the dropout rate. Here we scale by 0.5 (because we were previous dropping half the \n",
    "units):"
   ]
  },
  {
   "cell_type": "markdown",
   "metadata": {
    "collapsed": true
   },
   "source": [
    "```python\n",
    "# At test time:\n",
    "layer_output *= 0.5\n",
    "layer_output\n",
    "```"
   ]
  },
  {
   "cell_type": "markdown",
   "metadata": {},
   "source": [
    "\n",
    "Note that this process can be implemented by doing both operations at training time and leaving the output unchanged at test time, which is \n",
    "often the way it is implemented in practice:"
   ]
  },
  {
   "cell_type": "markdown",
   "metadata": {
    "collapsed": true
   },
   "source": [
    "```python\n",
    "# At training time:\n",
    "layer_output *= np.random.randint(0, high=2, size=layer_output.shape)\n",
    "# Note that we are scaling *up* rather scaling *down* in this case\n",
    "layer_output /= 0.5\n",
    "```"
   ]
  },
  {
   "cell_type": "markdown",
   "metadata": {},
   "source": [
    "\n",
    "This technique may seem strange and arbitrary. Why would this help reduce overfitting? Geoff Hinton has said that he was inspired, among \n",
    "other things, by a fraud prevention mechanism used by banks -- in his own words: _\"I went to my bank. The tellers kept changing and I asked \n",
    "one of them why. He said he didn’t know but they got moved around a lot. I figured it must be because it would require cooperation \n",
    "between employees to successfully defraud the bank. This made me realize that randomly removing a different subset of neurons on each \n",
    "example would prevent conspiracies and thus reduce overfitting\"_.\n",
    "\n",
    "The core idea is that introducing noise in the output values of a layer can break up happenstance patterns that are not significant (what \n",
    "Hinton refers to as \"conspiracies\"), which the network would start memorizing if no noise was present. \n",
    "\n",
    "In Keras you can introduce dropout in a network via the `Dropout` layer, which gets applied to the output of layer right before it, e.g.:"
   ]
  },
  {
   "cell_type": "markdown",
   "metadata": {
    "collapsed": true
   },
   "source": [
    "```python\n",
    "model.add(layers.Dropout(0.5))\n",
    "```"
   ]
  },
  {
   "cell_type": "markdown",
   "metadata": {},
   "source": [
    "Let's add two `Dropout` layers in our IMDB network to see how well they do at reducing overfitting:"
   ]
  },
  {
   "cell_type": "code",
   "execution_count": 18,
   "metadata": {},
   "outputs": [],
   "source": [
    "dpt_model = models.Sequential()\n",
    "dpt_model.add(layers.Dense(16, activation='elu', input_shape=(10000,)))\n",
    "dpt_model.add(layers.Dropout(0.5))\n",
    "dpt_model.add(layers.Dense(16, activation='elu'))\n",
    "dpt_model.add(layers.Dropout(0.5))\n",
    "dpt_model.add(layers.Dense(1, activation='sigmoid'))\n",
    "\n",
    "dpt_model.compile(optimizer='nadam',\n",
    "                  loss='binary_crossentropy',\n",
    "                  metrics=['acc'])"
   ]
  },
  {
   "cell_type": "code",
   "execution_count": 19,
   "metadata": {},
   "outputs": [
    {
     "name": "stdout",
     "output_type": "stream",
     "text": [
      "Train on 25000 samples, validate on 25000 samples\n",
      "Epoch 1/20\n",
      "25000/25000 [==============================] - 3s 100us/sample - loss: 0.5454 - acc: 0.7388 - val_loss: 0.3775 - val_acc: 0.8682\n",
      "Epoch 2/20\n",
      "25000/25000 [==============================] - 2s 64us/sample - loss: 0.3272 - acc: 0.8870 - val_loss: 0.2886 - val_acc: 0.8856\n",
      "Epoch 3/20\n",
      "25000/25000 [==============================] - 2s 65us/sample - loss: 0.2445 - acc: 0.9129 - val_loss: 0.2796 - val_acc: 0.8874\n",
      "Epoch 4/20\n",
      "25000/25000 [==============================] - 2s 65us/sample - loss: 0.2069 - acc: 0.9303 - val_loss: 0.2974 - val_acc: 0.8829\n",
      "Epoch 5/20\n",
      "25000/25000 [==============================] - 2s 65us/sample - loss: 0.1763 - acc: 0.9408 - val_loss: 0.3118 - val_acc: 0.8813\n",
      "Epoch 6/20\n",
      "25000/25000 [==============================] - 2s 65us/sample - loss: 0.1594 - acc: 0.9485 - val_loss: 0.3378 - val_acc: 0.8775\n",
      "Epoch 7/20\n",
      "25000/25000 [==============================] - 2s 65us/sample - loss: 0.1427 - acc: 0.9530 - val_loss: 0.3690 - val_acc: 0.8718\n",
      "Epoch 8/20\n",
      "25000/25000 [==============================] - 2s 65us/sample - loss: 0.1325 - acc: 0.9561 - val_loss: 0.3909 - val_acc: 0.8719\n",
      "Epoch 9/20\n",
      "25000/25000 [==============================] - 2s 65us/sample - loss: 0.1185 - acc: 0.9634 - val_loss: 0.4399 - val_acc: 0.8657\n",
      "Epoch 10/20\n",
      "25000/25000 [==============================] - 2s 65us/sample - loss: 0.1105 - acc: 0.9653 - val_loss: 0.4583 - val_acc: 0.8649\n",
      "Epoch 11/20\n",
      "25000/25000 [==============================] - 2s 65us/sample - loss: 0.0990 - acc: 0.9681 - val_loss: 0.4863 - val_acc: 0.8623\n",
      "Epoch 12/20\n",
      "25000/25000 [==============================] - 2s 65us/sample - loss: 0.0928 - acc: 0.9702 - val_loss: 0.5270 - val_acc: 0.8600\n",
      "Epoch 13/20\n",
      "25000/25000 [==============================] - 2s 65us/sample - loss: 0.0895 - acc: 0.9705 - val_loss: 0.5632 - val_acc: 0.8568\n",
      "Epoch 14/20\n",
      "25000/25000 [==============================] - 2s 64us/sample - loss: 0.0769 - acc: 0.9754 - val_loss: 0.6045 - val_acc: 0.8553\n",
      "Epoch 15/20\n",
      "25000/25000 [==============================] - 2s 65us/sample - loss: 0.0777 - acc: 0.9746 - val_loss: 0.6251 - val_acc: 0.8537\n",
      "Epoch 16/20\n",
      "25000/25000 [==============================] - 2s 65us/sample - loss: 0.0754 - acc: 0.9742 - val_loss: 0.6422 - val_acc: 0.8559\n",
      "Epoch 17/20\n",
      "25000/25000 [==============================] - 2s 65us/sample - loss: 0.0707 - acc: 0.9770 - val_loss: 0.6827 - val_acc: 0.8533\n",
      "Epoch 18/20\n",
      "25000/25000 [==============================] - 2s 64us/sample - loss: 0.0658 - acc: 0.9788 - val_loss: 0.7512 - val_acc: 0.8501\n",
      "Epoch 19/20\n",
      "25000/25000 [==============================] - 2s 65us/sample - loss: 0.0596 - acc: 0.9810 - val_loss: 0.7492 - val_acc: 0.8520\n",
      "Epoch 20/20\n",
      "25000/25000 [==============================] - 2s 65us/sample - loss: 0.0588 - acc: 0.9816 - val_loss: 0.7703 - val_acc: 0.8515\n"
     ]
    }
   ],
   "source": [
    "dpt_model_hist = dpt_model.fit(x_train, y_train,\n",
    "                               epochs=20,\n",
    "                               batch_size=512,\n",
    "                               validation_data=(x_test, y_test))"
   ]
  },
  {
   "cell_type": "markdown",
   "metadata": {},
   "source": [
    "Let's plot the results:"
   ]
  },
  {
   "cell_type": "code",
   "execution_count": 20,
   "metadata": {},
   "outputs": [
    {
     "data": {
      "image/png": "[encoded data removed]",
      "text/plain": [
       "<Figure size 432x288 with 1 Axes>"
      ]
     },
     "metadata": {
      "needs_background": "light"
     },
     "output_type": "display_data"
    }
   ],
   "source": [
    "dpt_model_val_loss = dpt_model_hist.history['val_loss']\n",
    "\n",
    "plt.plot(epochs, original_val_loss, 'b+', label='Original model')\n",
    "plt.plot(epochs, dpt_model_val_loss, 'bo', label='Dropout-regularized model')\n",
    "plt.gca().get_xaxis().set_ticks(np.arange(1,21))\n",
    "plt.xlabel('Epochs')\n",
    "plt.ylabel('Validation loss')\n",
    "plt.legend()\n",
    "\n",
    "plt.show()"
   ]
  },
  {
   "cell_type": "markdown",
   "metadata": {},
   "source": [
    "\n",
    "Again, a clear improvement over the reference network.\n",
    "\n",
    "To recap: here the most common ways to prevent overfitting in neural networks:\n",
    "\n",
    "* Getting more training data.\n",
    "* Reducing the capacity of the network.\n",
    "* Adding weight regularization.\n",
    "* Adding dropout."
   ]
  },
  {
   "cell_type": "code",
   "execution_count": 21,
   "metadata": {},
   "outputs": [],
   "source": [
    "model = models.Sequential([\n",
    "    layers.Dense(8, activation='selu', \n",
    "                    kernel_initializer=\"lecun_normal\",\n",
    "                    input_shape=(10_000,)),\n",
    "    layers.AlphaDropout(0.5),\n",
    "    layers.Dense(8, activation='selu',\n",
    "                    kernel_initializer=\"lecun_normal\"),\n",
    "    layers.AlphaDropout(0.5),\n",
    "    layers.Dense(1, activation='sigmoid')\n",
    "])\n",
    "\n",
    "model.compile(optimizer='nadam',\n",
    "                 loss='binary_crossentropy',\n",
    "                 metrics=['acc'])"
   ]
  },
  {
   "cell_type": "code",
   "execution_count": 22,
   "metadata": {},
   "outputs": [
    {
     "name": "stdout",
     "output_type": "stream",
     "text": [
      "Train on 25000 samples, validate on 25000 samples\n",
      "Epoch 1/20\n",
      "25000/25000 [==============================] - 2s 94us/sample - loss: 0.7590 - acc: 0.5084 - val_loss: 0.6478 - val_acc: 0.5306\n",
      "Epoch 2/20\n",
      "25000/25000 [==============================] - 2s 65us/sample - loss: 0.7079 - acc: 0.5450 - val_loss: 0.5828 - val_acc: 0.6753\n",
      "Epoch 3/20\n",
      "25000/25000 [==============================] - 2s 67us/sample - loss: 0.6683 - acc: 0.5931 - val_loss: 0.4661 - val_acc: 0.8255\n",
      "Epoch 4/20\n",
      "25000/25000 [==============================] - 2s 65us/sample - loss: 0.6164 - acc: 0.6480 - val_loss: 0.3752 - val_acc: 0.8551\n",
      "Epoch 5/20\n",
      "25000/25000 [==============================] - 2s 65us/sample - loss: 0.5679 - acc: 0.6909 - val_loss: 0.3178 - val_acc: 0.8696\n",
      "Epoch 6/20\n",
      "25000/25000 [==============================] - 2s 65us/sample - loss: 0.5238 - acc: 0.7217 - val_loss: 0.3033 - val_acc: 0.8768\n",
      "Epoch 7/20\n",
      "25000/25000 [==============================] - 2s 65us/sample - loss: 0.4847 - acc: 0.7517 - val_loss: 0.3119 - val_acc: 0.8808\n",
      "Epoch 8/20\n",
      "25000/25000 [==============================] - 2s 65us/sample - loss: 0.4507 - acc: 0.7732 - val_loss: 0.3225 - val_acc: 0.8847\n",
      "Epoch 9/20\n",
      "25000/25000 [==============================] - 2s 65us/sample - loss: 0.4273 - acc: 0.7824 - val_loss: 0.3360 - val_acc: 0.8876\n",
      "Epoch 10/20\n",
      "25000/25000 [==============================] - 2s 65us/sample - loss: 0.4023 - acc: 0.8013 - val_loss: 0.3626 - val_acc: 0.8886\n",
      "Epoch 11/20\n",
      "25000/25000 [==============================] - 2s 65us/sample - loss: 0.3863 - acc: 0.8076 - val_loss: 0.3786 - val_acc: 0.8881\n",
      "Epoch 12/20\n",
      "25000/25000 [==============================] - 2s 65us/sample - loss: 0.3688 - acc: 0.8199 - val_loss: 0.4185 - val_acc: 0.8903\n",
      "Epoch 13/20\n",
      "25000/25000 [==============================] - 2s 65us/sample - loss: 0.3555 - acc: 0.8287 - val_loss: 0.4375 - val_acc: 0.8905\n",
      "Epoch 14/20\n",
      "25000/25000 [==============================] - 2s 65us/sample - loss: 0.3436 - acc: 0.8350 - val_loss: 0.4551 - val_acc: 0.8900\n",
      "Epoch 15/20\n",
      "25000/25000 [==============================] - 2s 64us/sample - loss: 0.3332 - acc: 0.8392 - val_loss: 0.4683 - val_acc: 0.8894\n",
      "Epoch 16/20\n",
      "25000/25000 [==============================] - 2s 64us/sample - loss: 0.3157 - acc: 0.8435 - val_loss: 0.5219 - val_acc: 0.8894\n",
      "Epoch 17/20\n",
      "25000/25000 [==============================] - 2s 65us/sample - loss: 0.3073 - acc: 0.8443 - val_loss: 0.5244 - val_acc: 0.8889\n",
      "Epoch 18/20\n",
      "25000/25000 [==============================] - 2s 64us/sample - loss: 0.3058 - acc: 0.8442 - val_loss: 0.5206 - val_acc: 0.8894\n",
      "Epoch 19/20\n",
      "25000/25000 [==============================] - 2s 64us/sample - loss: 0.2982 - acc: 0.8418 - val_loss: 0.5528 - val_acc: 0.8885\n",
      "Epoch 20/20\n",
      "25000/25000 [==============================] - 2s 65us/sample - loss: 0.2827 - acc: 0.8463 - val_loss: 0.5822 - val_acc: 0.8885\n"
     ]
    }
   ],
   "source": [
    "history = model.fit(x_train, y_train,\n",
    "                   epochs=20,\n",
    "                   batch_size=512,\n",
    "                   validation_data=(x_test, y_test))"
   ]
  },
  {
   "cell_type": "code",
   "execution_count": 23,
   "metadata": {},
   "outputs": [
    {
     "data": {
      "image/png": "[encoded data removed]",
      "text/plain": [
       "<Figure size 432x288 with 1 Axes>"
      ]
     },
     "metadata": {
      "needs_background": "light"
     },
     "output_type": "display_data"
    }
   ],
   "source": [
    "model_val_loss = history.history['val_loss']\n",
    "\n",
    "plt.plot(epochs, original_val_loss, 'b+', label='Original model')\n",
    "plt.plot(epochs, model_val_loss, 'bo', label='Dropout-regularized model')\n",
    "plt.gca().get_xaxis().set_ticks(np.arange(1,21))\n",
    "plt.xlabel('Epochs')\n",
    "plt.ylabel('Validation loss')\n",
    "plt.legend()\n",
    "\n",
    "plt.show()"
   ]
  },
  {
   "cell_type": "code",
   "execution_count": 24,
   "metadata": {},
   "outputs": [
    {
     "data": {
      "image/png": "[encoded data removed]",
      "text/plain": [
       "<Figure size 432x288 with 1 Axes>"
      ]
     },
     "metadata": {
      "needs_background": "light"
     },
     "output_type": "display_data"
    }
   ],
   "source": [
    "model_acc = history.history['acc']\n",
    "model_val_acc = history.history['val_acc']\n",
    "\n",
    "plt.plot(epochs, model_acc, 'b+', label='accuray:train')\n",
    "plt.plot(epochs, model_val_acc, 'bo', label='accuracy:validation')\n",
    "plt.gca().get_xaxis().set_ticks(np.arange(1,21))\n",
    "# plt.ylim([0, 1])\n",
    "plt.xlabel('Epochs')\n",
    "plt.ylabel('Accuracy')\n",
    "plt.legend()\n",
    "\n",
    "plt.show()"
   ]
  },
  {
   "cell_type": "code",
   "execution_count": null,
   "metadata": {},
   "outputs": [],
   "source": []
  }
 ],
 "metadata": {
  "kernelspec": {
   "display_name": "Python 3",
   "language": "python",
   "name": "python3"
  },
  "language_info": {
   "codemirror_mode": {
    "name": "ipython",
    "version": 3
   },
   "file_extension": ".py",
   "mimetype": "text/x-python",
   "name": "python",
   "nbconvert_exporter": "python",
   "pygments_lexer": "ipython3",
   "version": "3.7.4"
  }
 },
 "nbformat": 4,
 "nbformat_minor": 2
}
